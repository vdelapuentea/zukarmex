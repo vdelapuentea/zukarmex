{
 "cells": [
  {
   "cell_type": "code",
   "execution_count": null,
   "id": "565a0cb9-6343-4894-a490-834619aa1d94",
   "metadata": {
    "tags": []
   },
   "outputs": [],
   "source": [
    "#!pip install tensorflow==2.8.2"
   ]
  },
  {
   "cell_type": "code",
   "execution_count": null,
   "id": "4a4933f8-7902-4fd9-8c77-07548bdba0d6",
   "metadata": {},
   "outputs": [],
   "source": [
    "#!pip install keras"
   ]
  },
  {
   "cell_type": "code",
   "execution_count": 1,
   "id": "d7e1f50c-fa76-477f-af7a-1e3c3835a0a8",
   "metadata": {
    "tags": []
   },
   "outputs": [
    {
     "name": "stderr",
     "output_type": "stream",
     "text": [
      "2022-09-16 22:33:00.761084: W tensorflow/stream_executor/platform/default/dso_loader.cc:64] Could not load dynamic library 'libcudart.so.11.0'; dlerror: libcudart.so.11.0: cannot open shared object file: No such file or directory\n",
      "2022-09-16 22:33:00.761144: I tensorflow/stream_executor/cuda/cudart_stub.cc:29] Ignore above cudart dlerror if you do not have a GPU set up on your machine.\n"
     ]
    }
   ],
   "source": [
    "import os\n",
    "import datetime\n",
    "import IPython\n",
    "import IPython.display\n",
    "import matplotlib as mpl\n",
    "import matplotlib.pyplot as plt\n",
    "import numpy as np\n",
    "import pandas as pd\n",
    "import seaborn as sns\n",
    "from tensorflow.keras.preprocessing.image import load_img, img_to_array\n",
    "from tensorflow.keras.utils import to_categorical ,Sequence\n",
    "from tensorflow.keras import backend as K\n",
    "from tensorflow.keras.layers import Input, Conv2D, MaxPooling2D, concatenate, Conv2DTranspose, BatchNormalization, Activation, Dropout\n",
    "from tensorflow.keras.optimizers import Adadelta, Nadam ,Adam\n",
    "from tensorflow.keras.models import Model, load_model\n",
    "from tensorflow.keras.callbacks import ModelCheckpoint, EarlyStopping, ReduceLROnPlateau, CSVLogger, TensorBoard\n",
    "import tensorflow as tf\n",
    "\n",
    "from sklearn.model_selection import train_test_split\n",
    "from datetime import datetime\n",
    "from google.cloud import storage\n",
    "from google.cloud import bigquery\n",
    "from google.oauth2 import service_account\n",
    "from sklearn.impute import KNNImputer\n",
    "from sklearn import preprocessing\n",
    "import keras.models\n",
    "from keras.models import Sequential\n",
    "from keras.layers import Activation, Dense\n",
    "from tensorflow.keras.layers import LSTM\n",
    "from sklearn.preprocessing import StandardScaler\n",
    "\n",
    "import load_data\n",
    "\n",
    "z_scaler = preprocessing.StandardScaler()\n",
    "client = bigquery.Client()"
   ]
  },
  {
   "cell_type": "code",
   "execution_count": 2,
   "id": "c23a579c-ce4a-4731-b7e1-1e2e713ebd4a",
   "metadata": {},
   "outputs": [
    {
     "data": {
      "text/plain": [
       "'2.8.2'"
      ]
     },
     "execution_count": 2,
     "metadata": {},
     "output_type": "execute_result"
    }
   ],
   "source": [
    "tf.__version__"
   ]
  },
  {
   "cell_type": "code",
   "execution_count": 3,
   "id": "49a9e5c5-20c8-4179-87f2-82fdbb0873f9",
   "metadata": {},
   "outputs": [],
   "source": [
    "client = bigquery.Client()"
   ]
  },
  {
   "cell_type": "code",
   "execution_count": 4,
   "id": "8e662f71-1717-42ae-851d-d24ed4931d1e",
   "metadata": {},
   "outputs": [],
   "source": [
    "PROJECT_ID = 'zmx-sugar-sales-ml-d'"
   ]
  },
  {
   "cell_type": "code",
   "execution_count": null,
   "id": "3723a309-382c-4556-9201-713d82b958ef",
   "metadata": {
    "tags": []
   },
   "outputs": [],
   "source": [
    "# load_data.load_data_sniim()\n",
    "# load_data.load_data_bh()"
   ]
  },
  {
   "cell_type": "markdown",
   "id": "3bbd74ec-e6e5-4fc1-9015-990f57b4ab10",
   "metadata": {},
   "source": [
    "### CARGAR DATOS"
   ]
  },
  {
   "cell_type": "code",
   "execution_count": 5,
   "id": "728fb340-5b90-49f6-90c6-ff25f431e2db",
   "metadata": {},
   "outputs": [],
   "source": [
    "def load_data_sniim():\n",
    "    client = bigquery.Client()\n",
    "    data_sniim_estado = client.query(f\"\"\" SELECT date_time AS Fecha, Estado, AVG(valor) AS Valor_Promedio_SNIIM FROM (\n",
    "      SELECT A.*, B.Estado\n",
    "      FROM ( SELECT * FROM `zmx-sugar-sales-ml-d.raw.SNIM_PRECIOS_REFERENCIA` ) A\n",
    "      LEFT JOIN ( SELECT * FROM `zmx-sugar-sales-ml-d.raw.prueba_grupos` ) B\n",
    "      ON A.Centro_distribucion = B.Ingenio)\n",
    "    GROUP BY date_time, Estado;\"\"\").to_dataframe() \n",
    "    return data_sniim_estado\n",
    "\n",
    "def load_data_bh():\n",
    "    client = bigquery.Client()\n",
    "    data_precio_bh_estado = client.query(f\"\"\" SELECT DATE(fecha) as Fecha, ingenio as Ingenio, Estado, AVG(precio_base) AS Precio_Base_Promedio FROM (\n",
    "    SELECT A.*, B.Estado\n",
    "    FROM ( SELECT * FROM `zmx-sugar-sales-ml-d.raw.SQLSERVER_VENTAS_HIST` ) A\n",
    "    LEFT JOIN ( SELECT * FROM `zmx-sugar-sales-ml-d.raw.prueba_grupos` ) B\n",
    "    ON A.ingenio = B.Ingenio)\n",
    "    GROUP BY Fecha, Ingenio, Estado; \"\"\").to_dataframe()\n",
    "    return data_precio_bh_estado"
   ]
  },
  {
   "cell_type": "code",
   "execution_count": 6,
   "id": "a6cbf1d0-0ee9-47a1-897e-bbe66e60432f",
   "metadata": {},
   "outputs": [],
   "source": [
    "data_sniim_estado = client.query(f\"\"\" SELECT date_time AS Fecha, UPPER(Estado) as Estado, AVG(valor) AS Valor_Promedio_SNIIM FROM (\n",
    "   SELECT A.*, B.Estado\n",
    "   FROM ( SELECT * FROM `zmx-sugar-sales-ml-d.raw.SNIM_PRECIOS_REFERENCIA` ) A\n",
    "   LEFT JOIN ( SELECT * FROM `zmx-sugar-sales-ml-d.raw.prueba_grupos` ) B\n",
    "   ON A.Centro_distribucion = B.Ingenio)\n",
    "GROUP BY date_time, Estado;\"\"\").to_dataframe() \n",
    " #return data_sniim_estado\n",
    "    \n",
    "client = bigquery.Client()\n",
    "data_precio_bh_estado = client.query(f\"\"\" SELECT DATE(fecha) as Fecha, ingenio as Ingenio, UPPER(Estado) as Estado, AVG(precio_base) AS Precio_Base_Promedio FROM (\n",
    "SELECT A.*, B.Estado\n",
    "FROM ( SELECT * FROM `zmx-sugar-sales-ml-d.raw.precio-base-historico` ) A\n",
    "LEFT JOIN ( SELECT * FROM `zmx-sugar-sales-ml-d.raw.prueba_grupos` ) B\n",
    "ON A.ingenio = B.Ingenio)\n",
    "GROUP BY Fecha, Ingenio, Estado; \"\"\").to_dataframe()"
   ]
  },
  {
   "cell_type": "code",
   "execution_count": 7,
   "id": "ac2dbf45-b640-4ffc-8e3b-2759ebffe7db",
   "metadata": {},
   "outputs": [
    {
     "data": {
      "text/plain": [
       "(79921, 3)"
      ]
     },
     "execution_count": 7,
     "metadata": {},
     "output_type": "execute_result"
    }
   ],
   "source": [
    "data_sniim_estado.shape"
   ]
  },
  {
   "cell_type": "code",
   "execution_count": 8,
   "id": "e1f0e5c7-f826-44ad-9202-5643b7f645b7",
   "metadata": {},
   "outputs": [],
   "source": [
    "#bh = client.query(f\"\"\" SELECT * FROM `zmx-sugar-sales-ml-d.raw.precio-base-historico` \"\"\").to_dataframe()"
   ]
  },
  {
   "cell_type": "code",
   "execution_count": null,
   "id": "96d956e3-69ca-48b5-a397-b826a3c2836a",
   "metadata": {},
   "outputs": [],
   "source": [
    "#data_precio_bh_estado.shape , bh.shape"
   ]
  },
  {
   "cell_type": "markdown",
   "id": "436f1af5-a2a5-4b95-bc84-2ef7230d7951",
   "metadata": {},
   "source": [
    "## FUENTES"
   ]
  },
  {
   "cell_type": "code",
   "execution_count": null,
   "id": "525b4b42-ec22-43b3-beb7-719c981f02fa",
   "metadata": {},
   "outputs": [],
   "source": [
    "prueba = client.query(f\"\"\" SELECT * FROM `zmx-sugar-sales-ml-d.raw.prueba_grupos` \"\"\").to_dataframe()\n",
    "inventarios = client.query(f\"\"\" SELECT partida, PRODUCTOCODIGO, DATE(FECHA) as Fecha, ALMACEN, Cantidad, Costo, Tipo_Movimiento \n",
    "                        FROM `zmx-sugar-sales-ml-d.raw.SQLSERVER_INVENTARIOS` \"\"\").to_dataframe()\n",
    "tarifas = client.query(f\"\"\" SELECT Almacen, PaisDestino, EstadoDestino, EstadoOrigen as Estado, PrecioTonelada, DATE(fecha_vigencia) as Fecha \n",
    "                        FROM `zmx-sugar-sales-ml-d.raw.SQLSERVER_TARIFAS_TONELADA` \"\"\").to_dataframe()\n",
    "ventas = client.query(f\"\"\" SELECT * FROM `zmx-sugar-sales-ml-d.raw.prueba_ventas` \"\"\").to_dataframe()\n",
    "almacenes = client.query(f\"\"\" SELECT * FROM `zmx-sugar-sales-ml-d.raw.prueba_almacenes` \"\"\").to_dataframe()\n",
    "\n",
    "# FALTA COMPARATIVOS\n",
    "\n",
    "# VENTAS Y ALMACENES\n",
    "ventas = ventas.rename(columns={'ALMACEN':'Almacen',})\n",
    "ventas1 = pd.merge(ventas,almacenes,how='left',on=[\"Almacen\"])\n"
   ]
  },
  {
   "cell_type": "code",
   "execution_count": null,
   "id": "0687c22b-1e81-4209-ba06-af8aba71a690",
   "metadata": {},
   "outputs": [],
   "source": []
  },
  {
   "cell_type": "code",
   "execution_count": null,
   "id": "c79a3c53-e1fd-4b43-a801-7f3598e14809",
   "metadata": {
    "tags": []
   },
   "outputs": [],
   "source": [
    "data_precio_bh_estado.shape, inventarios.shape, \n",
    "print(\"data_precio_bh_estado ==\",data_precio_bh_estado.columns) \n",
    "print(\"inventarios ==\",inventarios.columns) \n",
    "print(\"ventas ==\",ventas.columns)\n",
    "print(\"tarifas ==\",tarifas.columns) \n",
    "print(\"prueba ==\",prueba.columns)\n",
    "print(\"almacenes ==\",almacenes.columns)"
   ]
  },
  {
   "cell_type": "code",
   "execution_count": null,
   "id": "27918690-a2c0-410c-adcc-752b29f6d119",
   "metadata": {},
   "outputs": [],
   "source": [
    "data_sniim_estado[\"Estado\"]=data_sniim_estado[\"Estado\"].replace(\"ESTADO DE MÉXICO\", \"ESTADO DE MEXICO\")\n",
    "data_sniim_estado[\"Estado\"]=data_sniim_estado[\"Estado\"].replace(\"MICHOACÁN\", \"MICHOACAN\")\n",
    "data_sniim_estado[\"Estado\"]=data_sniim_estado[\"Estado\"].replace(\"QUERÉTARO\", \"QUERETARO\")\n",
    "data_sniim_estado[\"Estado\"]=data_sniim_estado[\"Estado\"].replace(\"NUEVO LEÓN\", \"NUEVO LEON\")\n",
    "data_sniim_estado[\"Estado\"]=data_sniim_estado[\"Estado\"].replace(\"CIUDAD DE MÉXICO\", \"CIUDAD DE MEXICO\")"
   ]
  },
  {
   "cell_type": "code",
   "execution_count": null,
   "id": "1475c11f-2e5a-49bb-a806-d65191dfecdb",
   "metadata": {
    "tags": []
   },
   "outputs": [],
   "source": [
    "tarifas[\"Fecha\"].max(),tarifas[\"Fecha\"].min() "
   ]
  },
  {
   "cell_type": "markdown",
   "id": "d7c15235-f7c5-4a43-82df-f53179bdf200",
   "metadata": {},
   "source": [
    "# NO CORRER"
   ]
  },
  {
   "cell_type": "markdown",
   "id": "555f0ee0-37c6-45da-b98e-74ab0c2af0a8",
   "metadata": {},
   "source": [
    "#### ANALIZANDO ALMACENES"
   ]
  },
  {
   "cell_type": "code",
   "execution_count": null,
   "id": "fd41e40d-0efe-407e-9848-f723c0499b1a",
   "metadata": {},
   "outputs": [],
   "source": [
    "almacenes.columns"
   ]
  },
  {
   "cell_type": "code",
   "execution_count": null,
   "id": "0325a18a-6619-4fea-a03d-14b6f532e225",
   "metadata": {},
   "outputs": [],
   "source": [
    "almacenes.shape"
   ]
  },
  {
   "cell_type": "markdown",
   "id": "66dd61fd-1a0d-41f7-94f1-00e2a088fd77",
   "metadata": {},
   "source": [
    "#### ANALIZANDO VENTAS"
   ]
  },
  {
   "cell_type": "code",
   "execution_count": null,
   "id": "d08a638d-282d-485e-82ad-4e7c1e5b2fe2",
   "metadata": {},
   "outputs": [],
   "source": [
    "ventas.columns"
   ]
  },
  {
   "cell_type": "code",
   "execution_count": null,
   "id": "11873749-c2d2-4a66-b65c-784b87a57cbd",
   "metadata": {},
   "outputs": [],
   "source": [
    "ventas.shape"
   ]
  },
  {
   "cell_type": "markdown",
   "id": "ad9f96bd-fc8a-40c5-894b-408aae8969de",
   "metadata": {},
   "source": [
    "#### UNIENDO VENTAS CON ALMACENES"
   ]
  },
  {
   "cell_type": "code",
   "execution_count": null,
   "id": "c248c1d4-babf-4480-b291-9f031c7db7ad",
   "metadata": {},
   "outputs": [],
   "source": [
    "ventas1 = pd.merge(ventas,almacenes,how='left',on=[\"Almacen\"])"
   ]
  },
  {
   "cell_type": "code",
   "execution_count": null,
   "id": "3f93869e-4b38-42ab-a6db-c7c371bc938b",
   "metadata": {},
   "outputs": [],
   "source": [
    "len(set(ventas2[\"Almacen\"]) & set(inventarios[\"Almacen\"]))"
   ]
  },
  {
   "cell_type": "code",
   "execution_count": null,
   "id": "3c577dd7-5ac8-481c-a426-7e4733766e2d",
   "metadata": {
    "tags": []
   },
   "outputs": [],
   "source": [
    "almacenes[\"Almacen\"].unique()"
   ]
  },
  {
   "cell_type": "code",
   "execution_count": null,
   "id": "0b4c6927-0e74-4b9a-bb95-e1dfa595e8d4",
   "metadata": {
    "tags": []
   },
   "outputs": [],
   "source": [
    "len(set(ventas[\"Almacen\"].unique()) & set(almacenes[\"Almacen\"].unique())), len(set(ventas[\"Almacen\"].unique())),len(set(almacenes[\"Almacen\"].unique()))"
   ]
  },
  {
   "cell_type": "code",
   "execution_count": null,
   "id": "6e124df1-3c46-45f0-a0fc-a059a226aec3",
   "metadata": {},
   "outputs": [],
   "source": [
    "#REVISAR COINCIDENCIAS ALMACEN, REVISAR FECHAS VIEJAS /// HACER LISTAS DE COINCIDENCIA Y NO COINCIDENCIA"
   ]
  },
  {
   "cell_type": "code",
   "execution_count": null,
   "id": "cef29118-373b-4bf2-9b1b-ccd9f57d1f50",
   "metadata": {},
   "outputs": [],
   "source": [
    "len(set(almacenes[\"Almacen\"].unique()) - set(ventas[\"Almacen\"].unique()))"
   ]
  },
  {
   "cell_type": "code",
   "execution_count": null,
   "id": "35e9cda9-cfc8-4f9e-9276-7335a18a8863",
   "metadata": {},
   "outputs": [],
   "source": [
    "ventas1.shape"
   ]
  },
  {
   "cell_type": "code",
   "execution_count": null,
   "id": "51ad9635-63a5-49ed-9373-bc6ee60a328d",
   "metadata": {
    "tags": []
   },
   "outputs": [],
   "source": [
    "ventas1.isnull().sum()"
   ]
  },
  {
   "cell_type": "code",
   "execution_count": null,
   "id": "5feb0cae-7fc7-47ac-8a3b-f208d4bc1aca",
   "metadata": {},
   "outputs": [],
   "source": [
    "ventas1=ventas1.dropna()\n",
    "ventas1 = ventas1.drop_duplicates() "
   ]
  },
  {
   "cell_type": "code",
   "execution_count": null,
   "id": "e0895bf3-1807-49d8-8dcf-f80bc9781d3a",
   "metadata": {},
   "outputs": [],
   "source": [
    "ventas1.shape"
   ]
  },
  {
   "cell_type": "code",
   "execution_count": null,
   "id": "5b071db0-b9f5-41df-bc2d-d98131fc493f",
   "metadata": {},
   "outputs": [],
   "source": [
    "ventas1.columns"
   ]
  },
  {
   "cell_type": "code",
   "execution_count": null,
   "id": "58d79e21-cd41-4098-aab2-beb83978f826",
   "metadata": {},
   "outputs": [],
   "source": [
    "# FILTRAR EL PRODUCTO CODIGO DE AZUCAR POR TONELADA /// TODO LO QUE DIGA AZÚCAR ESTÁNDAR"
   ]
  },
  {
   "cell_type": "code",
   "execution_count": null,
   "id": "847ce723-4897-4553-a457-32875c26a9be",
   "metadata": {},
   "outputs": [],
   "source": [
    "ventas1.head()"
   ]
  },
  {
   "cell_type": "code",
   "execution_count": null,
   "id": "d4ed1e31-d8a6-41e7-aefe-6f0d4a97f6cd",
   "metadata": {},
   "outputs": [],
   "source": [
    "ventas2=ventas1.groupby(['PRODUCTOCODIGO','FECHA','Almacen','Tipo_Movimiento','Estado'])['Cantidad'].mean().reset_index()"
   ]
  },
  {
   "cell_type": "code",
   "execution_count": null,
   "id": "c915b278-ef80-4424-bcc6-82fde4d159b7",
   "metadata": {},
   "outputs": [],
   "source": [
    "ventas2.shape #280292 #168026"
   ]
  },
  {
   "cell_type": "code",
   "execution_count": null,
   "id": "535b920e-a90c-4aaf-b18f-410e5071b409",
   "metadata": {},
   "outputs": [],
   "source": [
    "ventas2 = ventas2.rename(columns={'FECHA':'Fecha',})"
   ]
  },
  {
   "cell_type": "code",
   "execution_count": null,
   "id": "667b472b-d7bf-44c3-88f9-ae87913e7229",
   "metadata": {},
   "outputs": [],
   "source": [
    "ventas2.head()"
   ]
  },
  {
   "cell_type": "code",
   "execution_count": null,
   "id": "d2cff34d-a1fe-4f6a-9c48-8d1f21e9e2cb",
   "metadata": {},
   "outputs": [],
   "source": [
    "ventas2[\"Fecha\"]=ventas2[\"Fecha\"].astype(str)"
   ]
  },
  {
   "cell_type": "code",
   "execution_count": null,
   "id": "a0d3c9d1-708f-4e8f-be34-257df2d94196",
   "metadata": {},
   "outputs": [],
   "source": [
    "ventas2[\"Fecha\"].max() , ventas2[\"Fecha\"].min()"
   ]
  },
  {
   "cell_type": "code",
   "execution_count": null,
   "id": "1ebd8d71-d1a9-4a8d-b36f-67afcbf8f002",
   "metadata": {},
   "outputs": [],
   "source": []
  },
  {
   "cell_type": "markdown",
   "id": "4643bdc7-d81f-4ff7-a876-6f00d21ddcd9",
   "metadata": {},
   "source": [
    "#### INVENTARIOS"
   ]
  },
  {
   "cell_type": "code",
   "execution_count": null,
   "id": "3856551a-f0f5-484d-9b0e-fabc13538924",
   "metadata": {},
   "outputs": [],
   "source": [
    "inventarios[\"Fecha\"]=inventarios[\"Fecha\"].astype(str)"
   ]
  },
  {
   "cell_type": "code",
   "execution_count": null,
   "id": "bb2e44cd-eca2-4ea4-bf4d-7dfba96d5b26",
   "metadata": {},
   "outputs": [],
   "source": [
    "inventarios = inventarios.rename(columns={'ALMACEN':'Almacen',})"
   ]
  },
  {
   "cell_type": "code",
   "execution_count": null,
   "id": "eeed06b6-5bd7-4f0e-970a-e3cc0748b783",
   "metadata": {},
   "outputs": [],
   "source": [
    "inventarios.columns"
   ]
  },
  {
   "cell_type": "code",
   "execution_count": null,
   "id": "4ac752cf-8f98-451a-bfac-ed0b14496016",
   "metadata": {},
   "outputs": [],
   "source": [
    "len(set(inventarios[\"Almacen\"]))"
   ]
  },
  {
   "cell_type": "code",
   "execution_count": null,
   "id": "028f276a-69e0-453f-b302-13bf89d6a771",
   "metadata": {},
   "outputs": [],
   "source": [
    "len(set(ventas2[\"Almacen\"]) & set(inventarios[\"Almacen\"])), len(set(ventas2[\"Almacen\"])), len(set(inventarios[\"Almacen\"]))"
   ]
  },
  {
   "cell_type": "code",
   "execution_count": null,
   "id": "4b77f2dc-bff4-4b8b-829b-c7a0ba55357f",
   "metadata": {},
   "outputs": [],
   "source": [
    "ventas1[\"FECHA\"] = ventas1[\"FECHA\"].astype(str) \n",
    "data_precio_bh_estado[\"Fecha\"] = data_precio_bh_estado[\"Fecha\"].astype(str)"
   ]
  },
  {
   "cell_type": "code",
   "execution_count": null,
   "id": "fc366a50-4625-4fb5-8f4a-01e9ffa86514",
   "metadata": {},
   "outputs": [],
   "source": [
    "len(set(ventas1[\"FECHA\"]) & set(data_precio_bh_estado[\"Fecha\"]))"
   ]
  },
  {
   "cell_type": "code",
   "execution_count": null,
   "id": "ad07bb45-377a-4b09-ac19-e1a5759c7c44",
   "metadata": {
    "tags": []
   },
   "outputs": [],
   "source": [
    "len(set(ventas2[\"Fecha\"]) & set(data_precio_bh_estado[\"Fecha\"]))"
   ]
  },
  {
   "cell_type": "code",
   "execution_count": null,
   "id": "bdc33760-e015-4e83-b942-29e736c25011",
   "metadata": {},
   "outputs": [],
   "source": [
    "inventarios.columns"
   ]
  },
  {
   "cell_type": "code",
   "execution_count": null,
   "id": "f462937d-4d99-4aa3-a2be-5bcc93d54dac",
   "metadata": {},
   "outputs": [],
   "source": [
    "len(set(inventarios[\"Fecha\"]) & set(data_precio_bh_estado[\"Fecha\"]))"
   ]
  },
  {
   "cell_type": "code",
   "execution_count": null,
   "id": "b1b1f077-3184-4a6b-83a7-a470f777e39c",
   "metadata": {},
   "outputs": [],
   "source": [
    "len(data_precio_bh_estado[\"Fecha\"].unique())"
   ]
  },
  {
   "cell_type": "code",
   "execution_count": null,
   "id": "7c7cde2b-e7cc-41fe-a670-e19bcdd5c21c",
   "metadata": {},
   "outputs": [],
   "source": [
    "len(set(inventarios[\"Fecha\"]) & set(ventas2[\"Fecha\"])), len(set(inventarios[\"Fecha\"])), len(set(ventas2[\"Fecha\"]))"
   ]
  },
  {
   "cell_type": "code",
   "execution_count": null,
   "id": "679d5024-eceb-4667-be1d-cdb184b0a5d8",
   "metadata": {},
   "outputs": [],
   "source": [
    "ventas2[\"Fecha\"].min(), data_precio_bh_estado[\"Fecha\"].min(), ventas2[\"Fecha\"].max(), data_precio_bh_estado[\"Fecha\"].max()"
   ]
  },
  {
   "cell_type": "code",
   "execution_count": null,
   "id": "4dec8657-961d-4bcb-911a-d848fd08c979",
   "metadata": {},
   "outputs": [],
   "source": [
    "inventarios[\"Fecha\"].max(), inventarios[\"Fecha\"].min()"
   ]
  },
  {
   "cell_type": "code",
   "execution_count": null,
   "id": "5b738d6b-2881-4bbd-b66c-ca5d5e209711",
   "metadata": {},
   "outputs": [],
   "source": [
    "len(set(data_precio_bh_estado[\"Fecha\"]))"
   ]
  },
  {
   "cell_type": "code",
   "execution_count": null,
   "id": "6ed6b8b2-5bbb-435b-a854-1264bab7b484",
   "metadata": {},
   "outputs": [],
   "source": [
    "data_precio_bh_estado.columns"
   ]
  },
  {
   "cell_type": "code",
   "execution_count": null,
   "id": "282eb98a-f88b-49b8-8b1c-b1db7646f451",
   "metadata": {},
   "outputs": [],
   "source": [
    "inventarios.shape , ventas2.shape"
   ]
  },
  {
   "cell_type": "code",
   "execution_count": null,
   "id": "dc70488d-c5a1-4824-9b8b-fb9d9790c21b",
   "metadata": {},
   "outputs": [],
   "source": [
    "ventas3 = pd.merge(ventas2,inventarios,how='left',on=[\"Fecha\",\"Almacen\"])"
   ]
  },
  {
   "cell_type": "code",
   "execution_count": null,
   "id": "7dab9f10-329d-4c47-a1c9-482a3f6cc5f7",
   "metadata": {
    "tags": []
   },
   "outputs": [],
   "source": [
    "#ventas3.head()"
   ]
  },
  {
   "cell_type": "code",
   "execution_count": null,
   "id": "a0618f18-e753-4fd7-8fd4-507aac2069d9",
   "metadata": {},
   "outputs": [],
   "source": [
    "ventas3.shape"
   ]
  },
  {
   "cell_type": "code",
   "execution_count": null,
   "id": "ac43cbd8-a0ba-4793-b67e-362ab6454e27",
   "metadata": {},
   "outputs": [],
   "source": [
    "ventas3.isnull().sum()"
   ]
  },
  {
   "cell_type": "code",
   "execution_count": null,
   "id": "e054bd0a-a831-46a8-99dc-72af0e648ac2",
   "metadata": {},
   "outputs": [],
   "source": [
    "ventas3=ventas3.dropna()\n",
    "ventas3 = ventas3.drop_duplicates() "
   ]
  },
  {
   "cell_type": "code",
   "execution_count": null,
   "id": "639ad41b-58b7-48ac-9d74-3c8077462535",
   "metadata": {
    "tags": []
   },
   "outputs": [],
   "source": [
    "ventas3.head()"
   ]
  },
  {
   "cell_type": "code",
   "execution_count": null,
   "id": "28e19477-04d2-43a0-a5b8-b04a971d4ef3",
   "metadata": {},
   "outputs": [],
   "source": [
    "len(set(ventas3[\"Fecha\"]) & set(data_precio_bh_estado[\"Fecha\"]))"
   ]
  },
  {
   "cell_type": "markdown",
   "id": "5058af1a-8c12-4c1d-813e-63eb913491dc",
   "metadata": {},
   "source": [
    "#### TARIFAS"
   ]
  },
  {
   "cell_type": "code",
   "execution_count": null,
   "id": "63004969-0ec1-461e-b375-62cca0f2522d",
   "metadata": {},
   "outputs": [],
   "source": [
    "len(set(inventarios[\"Fecha\"]) & set(data_precio_bh_estado[\"Fecha\"]))"
   ]
  },
  {
   "cell_type": "code",
   "execution_count": null,
   "id": "3e0e2c89-0cce-4392-b49f-5c961d1940ea",
   "metadata": {},
   "outputs": [],
   "source": [
    "## ESTADO DE ALMACENES NO SE HA VERIFICADO /// hacer una buena revision de almacen de inventarios y de almacenes // revisar fechas de almacenes"
   ]
  },
  {
   "cell_type": "code",
   "execution_count": null,
   "id": "e487d50e-9636-4016-b865-30404230eb92",
   "metadata": {},
   "outputs": [],
   "source": [
    "inventarios.columns , data_precio_bh_estado.columns, almacenes.columns"
   ]
  },
  {
   "cell_type": "code",
   "execution_count": null,
   "id": "54bd2c1d-42e8-4d8e-8345-67d1ee22e2c0",
   "metadata": {},
   "outputs": [],
   "source": [
    "inventarios1 = pd.merge(inventarios, almacenes,how='left',on=[\"Almacen\"] )"
   ]
  },
  {
   "cell_type": "code",
   "execution_count": null,
   "id": "a48e47d4-9daa-4ba4-913b-9c15ca57b49d",
   "metadata": {},
   "outputs": [],
   "source": [
    "len(set(inventarios[\"Almacen\"]) & set(almacenes[\"Almacen\"])) , len(inventarios[\"Almacen\"].unique()), len(almacenes[\"Almacen\"].unique())"
   ]
  },
  {
   "cell_type": "code",
   "execution_count": null,
   "id": "c14030f5-d2bf-476c-8d91-4a060ec2c261",
   "metadata": {
    "tags": []
   },
   "outputs": [],
   "source": [
    "for i in almacenes[\"Almacen\"].unique():\n",
    "    print(i)"
   ]
  },
  {
   "cell_type": "code",
   "execution_count": null,
   "id": "8b290132-9031-4184-9ddb-d71b23d7a092",
   "metadata": {},
   "outputs": [],
   "source": [
    "inventarios1.shape, inventarios.shape"
   ]
  },
  {
   "cell_type": "code",
   "execution_count": null,
   "id": "6a4bb416-52f2-4538-af40-01f7a52b6949",
   "metadata": {},
   "outputs": [],
   "source": [
    "inventarios1.isnull().sum()"
   ]
  },
  {
   "cell_type": "code",
   "execution_count": null,
   "id": "a01e684a-6b94-403f-8364-5648c3d70528",
   "metadata": {},
   "outputs": [],
   "source": []
  },
  {
   "cell_type": "code",
   "execution_count": null,
   "id": "ea35097f-6ede-4bba-ab66-f2e5c829b79d",
   "metadata": {},
   "outputs": [],
   "source": []
  },
  {
   "cell_type": "code",
   "execution_count": null,
   "id": "e0d4ef36-065f-41d0-9abb-68f875b1562b",
   "metadata": {},
   "outputs": [],
   "source": []
  },
  {
   "cell_type": "code",
   "execution_count": null,
   "id": "bed01863-b1b2-4204-b150-7ae5cf5109d0",
   "metadata": {},
   "outputs": [],
   "source": [
    "tarifas.shape "
   ]
  },
  {
   "cell_type": "code",
   "execution_count": null,
   "id": "46375f7f-b800-49dd-9bdc-56dee4bd49c4",
   "metadata": {},
   "outputs": [],
   "source": [
    "tarifas[\"Fecha\"].max() , tarifas[\"Fecha\"].min()"
   ]
  },
  {
   "cell_type": "code",
   "execution_count": null,
   "id": "0842890d-d11e-4542-8e21-4eb63f8f1e63",
   "metadata": {},
   "outputs": [],
   "source": [
    "tarifas[\"Fecha\"]=tarifas[\"Fecha\"].astype(str)"
   ]
  },
  {
   "cell_type": "code",
   "execution_count": null,
   "id": "484aaeda-dcd5-45e8-a781-361480879a42",
   "metadata": {},
   "outputs": [],
   "source": [
    "len(set(tarifas[\"Fecha\"]) & set(data_precio_bh_estado[\"Fecha\"]))"
   ]
  },
  {
   "cell_type": "code",
   "execution_count": null,
   "id": "c089d51a-464b-4794-8638-0cc62c358da6",
   "metadata": {
    "tags": []
   },
   "outputs": [],
   "source": [
    "data_precio_bh_estado[\"Fecha\"].unique()"
   ]
  },
  {
   "cell_type": "code",
   "execution_count": null,
   "id": "4fd576c2-af80-4bd5-bcf7-8f0189950c31",
   "metadata": {},
   "outputs": [],
   "source": [
    "tarifas[\"Fecha\"].unique()"
   ]
  },
  {
   "cell_type": "code",
   "execution_count": null,
   "id": "17f3fd11-a5f0-43ad-9f42-660be656afe5",
   "metadata": {},
   "outputs": [],
   "source": []
  },
  {
   "cell_type": "code",
   "execution_count": null,
   "id": "36fb6c1e-2672-4614-8325-f6eda7806774",
   "metadata": {},
   "outputs": [],
   "source": []
  },
  {
   "cell_type": "code",
   "execution_count": null,
   "id": "ec402952-5fb1-4ada-b53b-3c7d66f8cde6",
   "metadata": {},
   "outputs": [],
   "source": [
    "inventarios2 = pd.merge(inventarios,almacenes,how='left',on=[\"Almacen\"])"
   ]
  },
  {
   "cell_type": "code",
   "execution_count": null,
   "id": "a26c8dc5-586a-4314-9eac-8ff26a96e969",
   "metadata": {},
   "outputs": [],
   "source": [
    "inventarios2.shape"
   ]
  },
  {
   "cell_type": "code",
   "execution_count": null,
   "id": "f489f60c-47ef-40a4-a76a-4e53c567947c",
   "metadata": {},
   "outputs": [],
   "source": [
    "data_precio_bh_estado.shape"
   ]
  },
  {
   "cell_type": "code",
   "execution_count": null,
   "id": "9af4921d-cd0b-43a1-930f-9f8cd38f6702",
   "metadata": {},
   "outputs": [],
   "source": [
    "prueba.shape"
   ]
  },
  {
   "cell_type": "code",
   "execution_count": null,
   "id": "ecdefd93-9c3c-4403-ac97-a8de080467dd",
   "metadata": {},
   "outputs": [],
   "source": [
    "len(set(inventarios2[\"Fecha\"]) & set(data_precio_bh_estado[\"Fecha\"])), len(set(inventarios2[\"Fecha\"])) , len(set(data_precio_bh_estado[\"Fecha\"]))"
   ]
  },
  {
   "cell_type": "code",
   "execution_count": null,
   "id": "5dab36a3-11a6-4291-917d-50a0f019848d",
   "metadata": {},
   "outputs": [],
   "source": [
    "len(set(inventarios2[\"Estado\"]) & set(data_precio_bh_estado[\"Estado\"])), len(set(inventarios2[\"Estado\"])) , len(set(data_precio_bh_estado[\"Estado\"]))"
   ]
  },
  {
   "cell_type": "code",
   "execution_count": null,
   "id": "83da9b9b-302e-4adb-80f2-387d1837e2d0",
   "metadata": {},
   "outputs": [],
   "source": [
    "data_precio_bh_estado[\"Estado\"].unique()"
   ]
  },
  {
   "cell_type": "code",
   "execution_count": null,
   "id": "ca820d5e-ac68-478f-bfb1-e64c8a7a18af",
   "metadata": {},
   "outputs": [],
   "source": [
    "(set(inventarios2[\"Estado\"]) & set(data_precio_bh_estado[\"Estado\"]))"
   ]
  },
  {
   "cell_type": "code",
   "execution_count": null,
   "id": "407a6a2c-c1a3-4768-9839-53578fdd1155",
   "metadata": {},
   "outputs": [],
   "source": [
    "inventarios2.columns , data_precio_bh_estado.columns"
   ]
  },
  {
   "cell_type": "code",
   "execution_count": null,
   "id": "69fce6bb-99d1-4a00-ba71-c9498d726573",
   "metadata": {},
   "outputs": [],
   "source": []
  },
  {
   "cell_type": "code",
   "execution_count": null,
   "id": "829a5ee0-ac2f-4f86-b6dd-d96855f8b407",
   "metadata": {},
   "outputs": [],
   "source": [
    "prueba = pd.merge(data_precio_bh_estado,inventarios2,how='left',on=[\"Fecha\"])"
   ]
  },
  {
   "cell_type": "code",
   "execution_count": null,
   "id": "b843c187-22d4-4e59-bb88-e1ae91eb775a",
   "metadata": {},
   "outputs": [],
   "source": [
    "prueba.shape #1335679"
   ]
  },
  {
   "cell_type": "code",
   "execution_count": null,
   "id": "f53a0ce4-5e49-48c8-b2ca-fc7cb8e1e06d",
   "metadata": {},
   "outputs": [],
   "source": [
    "prueba.isnull().sum()"
   ]
  },
  {
   "cell_type": "code",
   "execution_count": null,
   "id": "88b84599-0ed4-4366-af63-2312b9787361",
   "metadata": {},
   "outputs": [],
   "source": [
    "del prueba[\"Estado_x\"]"
   ]
  },
  {
   "cell_type": "code",
   "execution_count": null,
   "id": "34935be4-aca2-411e-be30-2a23481e6b4f",
   "metadata": {},
   "outputs": [],
   "source": [
    "prueba.shape"
   ]
  },
  {
   "cell_type": "code",
   "execution_count": null,
   "id": "10c2efc5-2e1b-46a3-ad97-cd15ebc6ab22",
   "metadata": {},
   "outputs": [],
   "source": [
    "prueba=prueba.dropna()\n",
    "prueba = prueba.drop_duplicates() "
   ]
  },
  {
   "cell_type": "code",
   "execution_count": null,
   "id": "507bbed9-bda0-4d6f-9754-027285a0cd78",
   "metadata": {},
   "outputs": [],
   "source": [
    "prueba.shape"
   ]
  },
  {
   "cell_type": "code",
   "execution_count": null,
   "id": "c43bd0b6-7ac4-4fb3-8681-78cbf87093cb",
   "metadata": {},
   "outputs": [],
   "source": [
    "pd.set_option('display.max_rows', 500)"
   ]
  },
  {
   "cell_type": "code",
   "execution_count": null,
   "id": "12c2edb8-e9b7-496f-9793-dc9be2abeac2",
   "metadata": {
    "tags": []
   },
   "outputs": [],
   "source": [
    "pd.value_counts(prueba[[\"Ingenio\",\"Estado_x\"]])"
   ]
  },
  {
   "cell_type": "code",
   "execution_count": null,
   "id": "af05b5d9-b7c3-4988-9523-91e710265a92",
   "metadata": {},
   "outputs": [],
   "source": []
  },
  {
   "cell_type": "code",
   "execution_count": null,
   "id": "f003645f-2aa9-4f55-bdb0-b1385d6a50bf",
   "metadata": {},
   "outputs": [],
   "source": [
    "prueba.columns\n"
   ]
  },
  {
   "cell_type": "code",
   "execution_count": null,
   "id": "6bc0443e-c431-4b4e-86b5-cbd27a738858",
   "metadata": {},
   "outputs": [],
   "source": [
    "len(set(inventarios[\"Fecha\"].unique()) & set(ventas2[\"Fecha\"].unique()))"
   ]
  },
  {
   "cell_type": "code",
   "execution_count": null,
   "id": "de1f08cb-44aa-479e-aea9-d653036a3e17",
   "metadata": {},
   "outputs": [],
   "source": [
    "len(set(prueba[\"Fecha\"].unique()) & set(data_precio_bh_estado[\"Fecha\"].unique()))"
   ]
  },
  {
   "cell_type": "code",
   "execution_count": null,
   "id": "d6e9ed7b-c779-4363-92d5-3f783ad894cf",
   "metadata": {},
   "outputs": [],
   "source": []
  },
  {
   "cell_type": "code",
   "execution_count": null,
   "id": "76a15fbc-bfe3-4a10-bb42-7c6d89c5046e",
   "metadata": {},
   "outputs": [],
   "source": []
  },
  {
   "cell_type": "code",
   "execution_count": null,
   "id": "deb72519-98e2-48b8-aac1-43977fd30d1e",
   "metadata": {},
   "outputs": [],
   "source": []
  },
  {
   "cell_type": "code",
   "execution_count": null,
   "id": "a0c0250f-e03a-4e95-ae11-d4a6e1cb75fc",
   "metadata": {
    "tags": []
   },
   "outputs": [],
   "source": [
    "tarifas.columns"
   ]
  },
  {
   "cell_type": "code",
   "execution_count": null,
   "id": "9245e8e1-1642-4c85-b64b-168473d3c3bf",
   "metadata": {},
   "outputs": [],
   "source": [
    "len(almacenes[\"Almacen\"].unique()), len(inventarios[\"ALMACEN\"].unique())"
   ]
  },
  {
   "cell_type": "code",
   "execution_count": null,
   "id": "7f004803-a476-468a-91c5-fb2b69504b2e",
   "metadata": {},
   "outputs": [],
   "source": [
    "data_precio_bh_estado[\"Fecha\"] = data_precio_bh_estado[\"Fecha\"].astype(str)\n",
    "inventarios[\"Fecha\"] = inventarios[\"Fecha\"].astype(str)"
   ]
  },
  {
   "cell_type": "code",
   "execution_count": null,
   "id": "f0655286-d475-48dc-b09e-6fc0ca6e3538",
   "metadata": {},
   "outputs": [],
   "source": [
    "ventas[\"FECHA\"] = ventas[\"FECHA\"].astype(str)"
   ]
  },
  {
   "cell_type": "code",
   "execution_count": null,
   "id": "243fd3d0-531c-439d-bb60-fac5c3bc633e",
   "metadata": {
    "tags": []
   },
   "outputs": [],
   "source": [
    "# inventarios & almacenes\n",
    "inventarios = inventarios.rename(columns={'ALMACEN':'Almacen',})\n",
    "a = pd.merge(inventarios,almacenes,how='left',on=[\"Almacen\"])"
   ]
  },
  {
   "cell_type": "code",
   "execution_count": null,
   "id": "bc2ce8e7-9eb9-480b-aad1-b07a75700254",
   "metadata": {},
   "outputs": [],
   "source": [
    "a=a.dropna()\n",
    "a = a.drop_duplicates() "
   ]
  },
  {
   "cell_type": "code",
   "execution_count": null,
   "id": "49e5136e-d0a4-4e6d-aa37-84879b8ab2b3",
   "metadata": {},
   "outputs": [],
   "source": [
    "a.shape"
   ]
  },
  {
   "cell_type": "code",
   "execution_count": null,
   "id": "7c7ec3f0-5bb4-4cec-b2d3-c7b5a41d1e0d",
   "metadata": {
    "tags": []
   },
   "outputs": [],
   "source": [
    "a[\"Fecha\"].max(), a[\"Fecha\"].min()"
   ]
  },
  {
   "cell_type": "code",
   "execution_count": null,
   "id": "6fe43a59-b78b-434c-b8ea-dd8cfa06a248",
   "metadata": {},
   "outputs": [],
   "source": [
    "ventas[\"FECHA\"].max() , ventas[\"FECHA\"].min()"
   ]
  },
  {
   "cell_type": "code",
   "execution_count": null,
   "id": "dfa71750-a098-49d5-9181-49c90e1f900b",
   "metadata": {},
   "outputs": [],
   "source": [
    "data_precio_bh_estado[\"Fecha\"].max() , data_precio_bh_estado[\"Fecha\"].min()"
   ]
  },
  {
   "cell_type": "code",
   "execution_count": null,
   "id": "efcac5ed-31e2-4b31-87f0-cc2d5e44e1bd",
   "metadata": {},
   "outputs": [],
   "source": [
    "inventarios.shape , almacenes.shape, a.shape"
   ]
  },
  {
   "cell_type": "code",
   "execution_count": null,
   "id": "fb836229-a499-4e43-b9cf-8ead24b6bc3b",
   "metadata": {
    "tags": []
   },
   "outputs": [],
   "source": [
    "a.columns , ventas.columns\n",
    "a.shape , ventas.shape"
   ]
  },
  {
   "cell_type": "code",
   "execution_count": null,
   "id": "62fd9ef7-55f5-4de7-82e8-13d0a9691a8a",
   "metadata": {},
   "outputs": [],
   "source": [
    "data_precio_bh_estado.columns , a.columns\n",
    "#data_precio_bh_estado.shape , a.shape"
   ]
  },
  {
   "cell_type": "code",
   "execution_count": null,
   "id": "bc4ab451-fd4c-4d9e-aef1-999ea8de989d",
   "metadata": {},
   "outputs": [],
   "source": [
    "b = pd.merge(data_precio_bh_estado,a,how='left',on=[\"Fecha\",\"Estado\"])"
   ]
  },
  {
   "cell_type": "code",
   "execution_count": null,
   "id": "596bcde5-48b7-46de-96fc-e1789745f5b0",
   "metadata": {},
   "outputs": [],
   "source": [
    "ventas.columns"
   ]
  },
  {
   "cell_type": "code",
   "execution_count": null,
   "id": "e156d2e5-3e0c-4baa-9b2b-70333b02200d",
   "metadata": {},
   "outputs": [],
   "source": [
    "ventas[\"FECHA\"].max()"
   ]
  },
  {
   "cell_type": "code",
   "execution_count": null,
   "id": "1c8005e0-4c4e-4afe-9d4a-0a3f57ca8741",
   "metadata": {},
   "outputs": [],
   "source": [
    "b.columns"
   ]
  },
  {
   "cell_type": "code",
   "execution_count": null,
   "id": "64f46c42-079c-402c-9da4-da5a7ee3896e",
   "metadata": {},
   "outputs": [],
   "source": [
    "b.shape"
   ]
  },
  {
   "cell_type": "code",
   "execution_count": null,
   "id": "1d984faf-6335-4987-bd95-7020c596d2d9",
   "metadata": {},
   "outputs": [],
   "source": [
    "set(data_precio_bh_estado[\"Fecha\"].unique()) & set(a[\"Fecha\"].unique()) "
   ]
  },
  {
   "cell_type": "code",
   "execution_count": null,
   "id": "f3469f02-beab-4919-b56f-732497e389fe",
   "metadata": {},
   "outputs": [],
   "source": [
    "b.isnull().sum()"
   ]
  },
  {
   "cell_type": "code",
   "execution_count": null,
   "id": "2f0fc360-0b39-4126-923c-97affa6e91a7",
   "metadata": {},
   "outputs": [],
   "source": [
    "ventas1=ventas1.dropna()"
   ]
  },
  {
   "cell_type": "code",
   "execution_count": null,
   "id": "da545483-f172-4a7b-b074-357f25a7460e",
   "metadata": {},
   "outputs": [],
   "source": [
    "\n",
    "ventas2=ventas1.groupby(['DOCUMENTO','PRODUCTOCODIGO','FECHA','Almacen','Tipo_Movimiento','Poblacion','Estado'])['Cantidad'].mean().reset_index()"
   ]
  },
  {
   "cell_type": "code",
   "execution_count": null,
   "id": "e38fa0df-f979-4d8b-9ed0-8c87aa1c3e7b",
   "metadata": {
    "tags": []
   },
   "outputs": [],
   "source": [
    "#VENTAS Y INVENTARIOS ## y TARIFAS\n",
    "ventas2 = ventas2.rename(columns={'FECHA':'Fecha'})\n",
    "inventarios = inventarios.rename(columns={'ALMACEN':'Almacen'})\n",
    "ventas3 = pd.merge(inventarios,ventas2,how='left',on=[\"Almacen\",\"Fecha\"])\n",
    "ventas3=ventas3.dropna()\n",
    "ventas3 = ventas3.drop_duplicates() \n",
    "ventas4=ventas3.groupby(['DOCUMENTO', 'PRODUCTOCODIGO_x', 'Fecha', 'Almacen','Tipo_Movimiento_x', 'Poblacion', 'Estado', 'Cantidad_x', 'partida',\n",
    "       'PRODUCTOCODIGO_y', 'Tipo_Movimiento_y'])['Cantidad_y','Costo'].mean().reset_index()"
   ]
  },
  {
   "cell_type": "code",
   "execution_count": null,
   "id": "5f66681c-6ab0-430a-85e5-a80d7f8ad223",
   "metadata": {},
   "outputs": [],
   "source": [
    "ventas2[\"Fecha\"]=ventas2[\"Fecha\"].astype(str)\n",
    "inventarios[\"Fecha\"]=inventarios[\"Fecha\"].astype(str)\n",
    "data_precio_bh_estado[\"Fecha\"]=data_precio_bh_estado[\"Fecha\"].astype(str)"
   ]
  },
  {
   "cell_type": "code",
   "execution_count": null,
   "id": "e12d2e6a-17b8-487c-af61-fc354a8c5398",
   "metadata": {},
   "outputs": [],
   "source": [
    "ventas1[\"FECHA\"]=ventas1[\"FECHA\"].astype(str)\n",
    "ventas[\"FECHA\"]=ventas[\"FECHA\"].astype(str)"
   ]
  },
  {
   "cell_type": "code",
   "execution_count": null,
   "id": "2425defe-e635-4f6f-b9f2-b6badaefd0c2",
   "metadata": {},
   "outputs": [],
   "source": [
    "b=set(ventas[\"FECHA\"].unique()) & set(data_precio_bh_estado[\"Fecha\"].unique())\n",
    "len(b)"
   ]
  },
  {
   "cell_type": "code",
   "execution_count": null,
   "id": "921ba93b-b0c8-4318-9a2a-0a00565d69e5",
   "metadata": {
    "tags": []
   },
   "outputs": [],
   "source": [
    "b=set(ventas1[\"FECHA\"].unique()) & set(data_precio_bh_estado[\"Fecha\"].unique())\n",
    "len(b)"
   ]
  },
  {
   "cell_type": "code",
   "execution_count": null,
   "id": "af72737f-c83b-4c4d-9992-c8b493d021b9",
   "metadata": {},
   "outputs": [],
   "source": [
    "b=set(ventas2[\"Fecha\"].unique()) & set(data_precio_bh_estado[\"Fecha\"].unique())\n",
    "len(b)"
   ]
  },
  {
   "cell_type": "code",
   "execution_count": null,
   "id": "bc6cedc9-105e-4c28-badf-f80fea66d13d",
   "metadata": {
    "tags": []
   },
   "outputs": [],
   "source": [
    "data_precio_bh_estado[\"Fecha\"].unique()"
   ]
  },
  {
   "cell_type": "code",
   "execution_count": null,
   "id": "efbb2d10-2003-4be1-8ac2-e7ccfd26236c",
   "metadata": {},
   "outputs": [],
   "source": [
    "##cambiar tarifas por inventarios"
   ]
  },
  {
   "cell_type": "code",
   "execution_count": null,
   "id": "582150ed-1777-4121-ad73-abef60dd63ba",
   "metadata": {},
   "outputs": [],
   "source": [
    "ventas4.shape"
   ]
  },
  {
   "cell_type": "code",
   "execution_count": null,
   "id": "51dba251-098c-42b4-8898-710971d20e97",
   "metadata": {},
   "outputs": [],
   "source": [
    "ventas4[\"Fecha\"].max(), ventas4[\"Fecha\"].min()"
   ]
  },
  {
   "cell_type": "code",
   "execution_count": null,
   "id": "445c5aba-ab25-465e-a090-89de7a6c65a2",
   "metadata": {},
   "outputs": [],
   "source": [
    "ventas4[\"Fecha\"].sort_values(ascending=False)"
   ]
  },
  {
   "cell_type": "code",
   "execution_count": null,
   "id": "60c9d790-e129-465b-8913-826fe247d4ee",
   "metadata": {},
   "outputs": [],
   "source": [
    "data_precio_bh_estado[\"Fecha\"].sort_values(ascending=False)"
   ]
  },
  {
   "cell_type": "code",
   "execution_count": null,
   "id": "cdfe6fce-4818-483a-883a-9d225bd3c33b",
   "metadata": {
    "tags": []
   },
   "outputs": [],
   "source": [
    "inventarios[\"Fecha\"].astype(str)\n",
    "ventas4[\"Fecha\"].astype(str)\n",
    "data_precio_bh_estado[\"Fecha\"].astype(str)"
   ]
  },
  {
   "cell_type": "code",
   "execution_count": null,
   "id": "43b20e21-81f3-44d4-9896-3ec2d3ae5d8d",
   "metadata": {},
   "outputs": [],
   "source": [
    "ventas4[\"Fecha\"]=ventas4[\"Fecha\"].astype(str)\n",
    "data_precio_bh_estado[\"Fecha\"]=data_precio_bh_estado[\"Fecha\"].astype(str)"
   ]
  },
  {
   "cell_type": "code",
   "execution_count": null,
   "id": "9c0e113a-9a9f-45b5-b79c-b00da8b41637",
   "metadata": {
    "tags": []
   },
   "outputs": [],
   "source": [
    "inventarios[\"Fecha\"].unique()"
   ]
  },
  {
   "cell_type": "code",
   "execution_count": null,
   "id": "1e5b1422-d8f0-45bd-bb52-54e65d1f193d",
   "metadata": {
    "tags": []
   },
   "outputs": [],
   "source": [
    "ventas4[\"Fecha\"].unique()"
   ]
  },
  {
   "cell_type": "code",
   "execution_count": null,
   "id": "b8c3f382-842b-4436-be0a-f5adcaeae684",
   "metadata": {
    "tags": []
   },
   "outputs": [],
   "source": [
    "data_precio_bh_estado[\"Fecha\"].unique()"
   ]
  },
  {
   "cell_type": "code",
   "execution_count": null,
   "id": "b3be1e64-bc82-4b10-ac81-14dc90db3388",
   "metadata": {},
   "outputs": [],
   "source": [
    "set(ventas4[\"Fecha\"].unique()) & set(data_precio_bh_estado[\"Fecha\"].unique())"
   ]
  },
  {
   "cell_type": "code",
   "execution_count": null,
   "id": "8ba403a1-911d-4f4a-8e74-d2c42ef2d024",
   "metadata": {
    "tags": []
   },
   "outputs": [],
   "source": [
    "a = set(inventarios[\"Fecha\"].unique()) & set(data_precio_bh_estado[\"Fecha\"].unique())\n",
    "len(a)\n",
    "len(data_precio_bh_estado[\"Fecha\"].unique())"
   ]
  },
  {
   "cell_type": "code",
   "execution_count": null,
   "id": "9d25e1a8-f3c2-45f3-af24-d5f7e4f77eab",
   "metadata": {
    "tags": []
   },
   "outputs": [],
   "source": [
    "a"
   ]
  },
  {
   "cell_type": "code",
   "execution_count": null,
   "id": "812e4368-9561-4531-9253-3cafdc2db511",
   "metadata": {},
   "outputs": [],
   "source": [
    "ventas[\"FECHA\"]= ventas[\"FECHA\"].astype(str)"
   ]
  },
  {
   "cell_type": "code",
   "execution_count": null,
   "id": "d4f58840-938e-4d25-88b6-361287545524",
   "metadata": {},
   "outputs": [],
   "source": [
    "ventas4"
   ]
  },
  {
   "cell_type": "code",
   "execution_count": null,
   "id": "404ce5c3-4e7e-4838-bc32-0ec66d6351d3",
   "metadata": {},
   "outputs": [],
   "source": [
    "ventas[\"FECHA\"].unique().max() #ventas4"
   ]
  },
  {
   "cell_type": "code",
   "execution_count": null,
   "id": "a70a5fcf-2fdd-485e-840e-bd6d65ccee9d",
   "metadata": {
    "tags": []
   },
   "outputs": [],
   "source": [
    "for i in ventas[\"FECHA\"].unique():\n",
    "    print(i)"
   ]
  },
  {
   "cell_type": "code",
   "execution_count": null,
   "id": "9762ef6b-e791-4526-9903-553d86efefda",
   "metadata": {},
   "outputs": [],
   "source": [
    "ventas.columns"
   ]
  },
  {
   "cell_type": "code",
   "execution_count": null,
   "id": "f07c0db1-8cce-4177-a874-93a744920354",
   "metadata": {},
   "outputs": [],
   "source": [
    "c=set(ventas4[\"Fecha\"].unique()) & set(data_precio_bh_estado[\"Fecha\"].unique())\n",
    "len(c)"
   ]
  },
  {
   "cell_type": "code",
   "execution_count": null,
   "id": "63887ee5-0f24-4ac6-b4eb-672ea010b88c",
   "metadata": {
    "tags": []
   },
   "outputs": [],
   "source": [
    "b=set(ventas[\"FECHA\"].unique()) & set(data_precio_bh_estado[\"Fecha\"].unique())\n",
    "len(b)"
   ]
  },
  {
   "cell_type": "code",
   "execution_count": null,
   "id": "adb93f9f-c860-4677-91f5-b5896dca7a0a",
   "metadata": {},
   "outputs": [],
   "source": [
    "set(tarifas[\"Fecha\"].unique()) & set(data_precio_bh_estado[\"Fecha\"].unique())"
   ]
  },
  {
   "cell_type": "code",
   "execution_count": null,
   "id": "e483e284-90b3-40c2-9b27-5ae631e6137f",
   "metadata": {
    "tags": []
   },
   "outputs": [],
   "source": [
    "data_precio_bh_estado[\"Fecha\"].unique()"
   ]
  },
  {
   "cell_type": "code",
   "execution_count": null,
   "id": "e919788d-d01b-4def-bd65-f51217aaf008",
   "metadata": {},
   "outputs": [],
   "source": [
    "tarifas[\"Fecha\"].unique()"
   ]
  },
  {
   "cell_type": "code",
   "execution_count": null,
   "id": "3b02f9fe-a913-4752-82f3-03cbd321d97b",
   "metadata": {
    "tags": []
   },
   "outputs": [],
   "source": [
    "for i in (tarifas[\"Fecha\"].unique()):\n",
    "    print(i)"
   ]
  },
  {
   "cell_type": "code",
   "execution_count": null,
   "id": "d223a972-22ba-4b1c-8392-db57f15649ed",
   "metadata": {},
   "outputs": [],
   "source": [
    "tarifas[\"Fecha\"] = tarifas[\"Fecha\"].astype(str)"
   ]
  },
  {
   "cell_type": "raw",
   "id": "01499541-3df8-4179-8f04-f52a60d354a0",
   "metadata": {},
   "source": [
    "ventas2[\"Fecha\"].max(), ventas2[\"Fecha\"].min()"
   ]
  },
  {
   "cell_type": "code",
   "execution_count": null,
   "id": "b062672b-327a-46ae-b339-4da8c02ae98f",
   "metadata": {},
   "outputs": [],
   "source": [
    "ventas1[\"FECHA\"].max(), tarifas[\"Fecha\"].max(), inventarios[\"Fecha\"].max(), inventarios[\"Fecha\"].min()"
   ]
  },
  {
   "cell_type": "code",
   "execution_count": null,
   "id": "f4574ed9-cc91-4ed0-b55b-30f3bf362361",
   "metadata": {},
   "outputs": [],
   "source": [
    "ventas2[\"Fecha\"].max(), ventas3[\"Fecha\"].max(), ventas4[\"Fecha\"].max()"
   ]
  },
  {
   "cell_type": "code",
   "execution_count": null,
   "id": "4453858a-ea0a-4313-b32f-071d1ce7662c",
   "metadata": {},
   "outputs": [],
   "source": [
    "data_precio_bh_estado.shape, data_sniim_estado.shape"
   ]
  },
  {
   "cell_type": "code",
   "execution_count": null,
   "id": "69f8adae-54c3-45e9-b106-cb7f6e2176bb",
   "metadata": {},
   "outputs": [],
   "source": [
    "data_precio_bh_estado.columns , data_sniim_estado.columns , ventas4.columns"
   ]
  },
  {
   "cell_type": "code",
   "execution_count": null,
   "id": "780a971f-ac4d-4290-801c-40a86e7f088e",
   "metadata": {
    "tags": []
   },
   "outputs": [],
   "source": [
    "# client = bigquery.Client()\n",
    "# sniim_tarifas = client.query(f\"\"\" SELECT DATE(fecha) as Fecha, ingenio as Ingenio, Estado, AVG(precio_base) AS Precio_Base_Promedio FROM (\n",
    "# SELECT A.*, B.Estado\n",
    "# FROM ( SELECT * FROM `zmx-sugar-sales-ml-d.raw.SNIM_PRECIOS_REFERENCIA` ) A\n",
    "# LEFT JOIN ( SELECT Almacen, PaisDestino, EstadoDestino as Estado, EstadoOrigen, PrecioTonelada, DATE(fecha_vigencia) as Fecha FROM `zmx-sugar-sales-ml-d.raw.SQLSERVER_TARIFAS_TONELADA` ) B\n",
    "# ON A.Fecha = B.Fecha) \"\"\").to_dataframe()"
   ]
  },
  {
   "cell_type": "code",
   "execution_count": null,
   "id": "ada67dab-888c-4786-934c-c84f72a6ca11",
   "metadata": {},
   "outputs": [],
   "source": [
    "tarifas.columns , data_sniim_estado.columns"
   ]
  },
  {
   "cell_type": "code",
   "execution_count": null,
   "id": "377fc2a1-5105-4c11-b3c9-d1cbc6643b33",
   "metadata": {},
   "outputs": [],
   "source": [
    "tarifas.shape , data_sniim_estado.shape"
   ]
  },
  {
   "cell_type": "code",
   "execution_count": null,
   "id": "58b90a63-34e1-4c61-826a-2bdc49fce955",
   "metadata": {},
   "outputs": [],
   "source": [
    "tarifas.dtypes , data_sniim_estado.dtypes"
   ]
  },
  {
   "cell_type": "code",
   "execution_count": null,
   "id": "58c945a3-b4a8-48a5-b5a2-50a7ddaafd09",
   "metadata": {},
   "outputs": [],
   "source": [
    "tarifas[\"Fecha\"]=tarifas[\"Fecha\"].astype(str)\n",
    "data_sniim_estado[\"Fecha\"]=data_sniim_estado[\"Fecha\"].astype(str)\n",
    "ventas4[\"Fecha\"]=ventas4[\"Fecha\"].astype(str)"
   ]
  },
  {
   "cell_type": "code",
   "execution_count": null,
   "id": "8df971f7-1bda-4804-b42d-80787953ec17",
   "metadata": {},
   "outputs": [],
   "source": [
    "ventas4[\"Fecha\"].max()"
   ]
  },
  {
   "cell_type": "code",
   "execution_count": null,
   "id": "226ef13d-c21b-4425-97c4-017562d25169",
   "metadata": {},
   "outputs": [],
   "source": [
    "ventas4.columns"
   ]
  },
  {
   "cell_type": "code",
   "execution_count": null,
   "id": "c4ddffc0-c2d3-474c-bd9f-dde92e94b8b8",
   "metadata": {},
   "outputs": [],
   "source": [
    "#s = pd.Series([1, 2, 3, 4, 5])\n",
    "#s.replace(1, 5)\n",
    "data_sniim_estado[\"Estado\"]=data_sniim_estado[\"Estado\"].replace(\"ESTADO DE MÉXICO\", \"ESTADO DE MEXICO\")\n",
    "data_sniim_estado[\"Estado\"]=data_sniim_estado[\"Estado\"].replace(\"MICHOACÁN\", \"MICHOACAN\")\n",
    "data_sniim_estado[\"Estado\"]=data_sniim_estado[\"Estado\"].replace(\"QUERÉTARO\", \"QUERETARO\")\n",
    "data_sniim_estado[\"Estado\"]=data_sniim_estado[\"Estado\"].replace(\"NUEVO LEÓN\", \"NUEVO LEON\")\n",
    "data_sniim_estado[\"Estado\"]=data_sniim_estado[\"Estado\"].replace(\"CIUDAD DE MÉXICO\", \"CIUDAD DE MEXICO\")"
   ]
  },
  {
   "cell_type": "code",
   "execution_count": null,
   "id": "3e599c44-cb93-492e-9437-9dce1f32a1a0",
   "metadata": {},
   "outputs": [],
   "source": [
    "#dfM=pd.merge(data_precio_bh_estado,data_sniim_estado,how='left',on=[\"Fecha\",\"Estado\"])\n",
    "#comb = pd.merge(data_sniim_estado,inventario,how='left',on=[\"Fecha\",\"Estado\"])"
   ]
  },
  {
   "cell_type": "code",
   "execution_count": null,
   "id": "feea6f93-4cd2-42a2-a600-925242cb5a82",
   "metadata": {},
   "outputs": [],
   "source": [
    "# comb1 = pd.merge(comb,ventas4,how='left',on=[\"Fecha\",\"Estado\"])\n",
    "# comb1=comb1.dropna()\n",
    "# comb1 = comb1.drop_duplicates()"
   ]
  },
  {
   "cell_type": "code",
   "execution_count": null,
   "id": "feff8cb0-ff8e-4b5b-93cc-673930780db5",
   "metadata": {},
   "outputs": [],
   "source": []
  },
  {
   "cell_type": "code",
   "execution_count": null,
   "id": "5d8b50d5-2adc-4798-9ae9-0099990441f6",
   "metadata": {},
   "outputs": [],
   "source": [
    "comb1.shape , ventas4.shape , comb.shape"
   ]
  },
  {
   "cell_type": "code",
   "execution_count": null,
   "id": "91247454-10aa-4033-81f8-767b4639eb0a",
   "metadata": {},
   "outputs": [],
   "source": []
  },
  {
   "cell_type": "code",
   "execution_count": null,
   "id": "fdd2119a-cd2c-4014-bd6e-a7d1a39323b5",
   "metadata": {},
   "outputs": [],
   "source": [
    "comb.shape"
   ]
  },
  {
   "cell_type": "code",
   "execution_count": null,
   "id": "a1e14134-286e-4a1d-9fdf-112a1ed100e1",
   "metadata": {},
   "outputs": [],
   "source": [
    "comb1"
   ]
  },
  {
   "cell_type": "code",
   "execution_count": null,
   "id": "dedc2158-0751-48bd-8a98-731e32ddda28",
   "metadata": {},
   "outputs": [],
   "source": [
    "import datetime as dt "
   ]
  },
  {
   "cell_type": "code",
   "execution_count": null,
   "id": "de18a9fe-ae6d-4c45-abae-a370b262dc20",
   "metadata": {},
   "outputs": [],
   "source": []
  },
  {
   "cell_type": "code",
   "execution_count": null,
   "id": "a8c44a3a-cb4b-48cb-b4b2-eee45fcd6d9d",
   "metadata": {},
   "outputs": [],
   "source": [
    "data_sniim_estado = load_data.load_data_sniim()\n",
    "data_precio_bh_estado = load_data.load_data_bh()"
   ]
  },
  {
   "cell_type": "code",
   "execution_count": null,
   "id": "5af8c89e-c7c4-4a1b-9190-a1be17287d87",
   "metadata": {},
   "outputs": [],
   "source": [
    "data_precio_bh_estado.sort_values(by=['Fecha'])\n",
    "data_precio_bh_estado.isnull().sum()\n",
    "data_precio_bh_estado=data_precio_bh_estado.dropna()"
   ]
  },
  {
   "cell_type": "code",
   "execution_count": null,
   "id": "e2fc3525-3db4-4e14-af17-edc9190fbc24",
   "metadata": {},
   "outputs": [],
   "source": []
  },
  {
   "cell_type": "code",
   "execution_count": null,
   "id": "17c751d5-7fb0-40a6-b057-764d07fce124",
   "metadata": {},
   "outputs": [],
   "source": []
  },
  {
   "cell_type": "code",
   "execution_count": null,
   "id": "3c58e8e4-abf1-4df3-8916-e4ba445366a9",
   "metadata": {},
   "outputs": [],
   "source": []
  },
  {
   "cell_type": "markdown",
   "id": "f341e6c7-8322-4d96-9862-b15e8dbc5576",
   "metadata": {},
   "source": [
    "# HASTA AQUI"
   ]
  },
  {
   "cell_type": "markdown",
   "id": "03c17e42-0519-4430-8ba7-e82b6eea4518",
   "metadata": {},
   "source": [
    "#### Merge"
   ]
  },
  {
   "cell_type": "code",
   "execution_count": null,
   "id": "e4e5bb18-cb92-4968-8f0e-a007b7284f1d",
   "metadata": {},
   "outputs": [],
   "source": [
    "#dfM = comb1.copy()"
   ]
  },
  {
   "cell_type": "code",
   "execution_count": 9,
   "id": "57c41ad0-d73f-4fc3-aeb7-9170f81c36ce",
   "metadata": {},
   "outputs": [],
   "source": [
    "data_sniim_estado['Fecha']=data_sniim_estado['Fecha'].astype(str)\n",
    "data_precio_bh_estado['Fecha']=data_precio_bh_estado['Fecha'].astype(str)\n",
    "\n",
    "dfM=pd.merge(data_precio_bh_estado,data_sniim_estado,how='left',on=[\"Fecha\",\"Estado\"])\n",
    "dfM=dfM.dropna()"
   ]
  },
  {
   "cell_type": "code",
   "execution_count": null,
   "id": "9c2b1596-2e62-41f9-a139-b20102c676a0",
   "metadata": {},
   "outputs": [],
   "source": [
    "#dfM.columns,ventas4.columns"
   ]
  },
  {
   "cell_type": "code",
   "execution_count": null,
   "id": "121521e6-5f79-499f-bfba-6249b0638d1a",
   "metadata": {
    "tags": []
   },
   "outputs": [],
   "source": [
    "#del ventas4[\"Fecha\"]"
   ]
  },
  {
   "cell_type": "code",
   "execution_count": null,
   "id": "5535fc44-add0-4486-ace7-9677d73abaed",
   "metadata": {},
   "outputs": [],
   "source": [
    "#ventas5.shape"
   ]
  },
  {
   "cell_type": "code",
   "execution_count": null,
   "id": "6b201fdf-03bf-41f1-bcbe-f817499e6a53",
   "metadata": {},
   "outputs": [],
   "source": [
    "#ventas5=ventas4.groupby(['DOCUMENTO', 'PRODUCTOCODIGO_x','Almacen','Tipo_Movimiento_x', 'Estado'])['Cantidad_y','Costo'].mean().reset_index()"
   ]
  },
  {
   "cell_type": "code",
   "execution_count": null,
   "id": "8b661885-fe54-4b84-a7cb-1f1ffc8957a6",
   "metadata": {
    "tags": []
   },
   "outputs": [],
   "source": [
    "#ventas5"
   ]
  },
  {
   "cell_type": "code",
   "execution_count": null,
   "id": "a55683ff-769f-4096-970f-d234d3f60ec2",
   "metadata": {},
   "outputs": [],
   "source": [
    "#ventas5.shape , dfM.shape"
   ]
  },
  {
   "cell_type": "code",
   "execution_count": null,
   "id": "ab70aa2d-503e-40e2-a2e4-dded25fe2ab4",
   "metadata": {},
   "outputs": [],
   "source": [
    "#dfM.columns,ventas5.columns"
   ]
  },
  {
   "cell_type": "code",
   "execution_count": null,
   "id": "64c63c9e-1043-4097-8e79-5674809cb080",
   "metadata": {},
   "outputs": [],
   "source": [
    "#dfM1=pd.merge(dfM,ventas5,how='left',on=[\"Estado\"])"
   ]
  },
  {
   "cell_type": "code",
   "execution_count": null,
   "id": "6b38ca5d-ceef-44ae-87d3-1d1cf0cff898",
   "metadata": {},
   "outputs": [],
   "source": [
    "#dfM.shape,ventas5.shape,dfM1.shape"
   ]
  },
  {
   "cell_type": "code",
   "execution_count": null,
   "id": "0f313349-893a-45f8-bd7c-7e9f910c0083",
   "metadata": {},
   "outputs": [],
   "source": [
    "dfM.columns"
   ]
  },
  {
   "cell_type": "code",
   "execution_count": null,
   "id": "0619d982-7cff-46c9-ad4a-f17d3b7773af",
   "metadata": {},
   "outputs": [],
   "source": [
    "# del dfM1[\"DOCUMENTO\"]\n",
    "# del dfM1[\"Almacen\"]\n",
    "# del dfM1[\"Tipo_Movimiento_x\"]"
   ]
  },
  {
   "cell_type": "code",
   "execution_count": null,
   "id": "07809494-0a89-4b36-95ee-89629d65ad88",
   "metadata": {},
   "outputs": [],
   "source": [
    "#del dfM1[\"PRODUCTOCODIGO_x\"]"
   ]
  },
  {
   "cell_type": "code",
   "execution_count": null,
   "id": "9df13f11-0f9f-4d5c-beb0-2b728f26a58a",
   "metadata": {
    "tags": []
   },
   "outputs": [],
   "source": [
    "#dfM1"
   ]
  },
  {
   "cell_type": "code",
   "execution_count": null,
   "id": "adc9fc18-e59b-4774-8876-d5dd6a57de6a",
   "metadata": {
    "tags": []
   },
   "outputs": [],
   "source": [
    "#dfM1.columns"
   ]
  },
  {
   "cell_type": "code",
   "execution_count": null,
   "id": "66cb9d46-b8b9-4ce5-a022-8a59f0fe68ca",
   "metadata": {},
   "outputs": [],
   "source": [
    "#dfM2=dfM1.groupby(['Fecha', 'Ingenio', 'Estado', 'Precio_Base_Promedio','Valor_Promedio_SNIIM'])['Cantidad_y','Costo'].mean().reset_index()"
   ]
  },
  {
   "cell_type": "code",
   "execution_count": null,
   "id": "fd6fec03-b4be-4955-a385-2a8a1ea64ad2",
   "metadata": {},
   "outputs": [],
   "source": [
    "#dfM1.shape , dfM2.shape ,dfM.shape"
   ]
  },
  {
   "cell_type": "code",
   "execution_count": null,
   "id": "36677be8-2091-4998-92af-b87407f31bad",
   "metadata": {},
   "outputs": [],
   "source": [
    "#dfM[\"Estado\"].unique(),ventas5[\"Estado\"].unique()"
   ]
  },
  {
   "cell_type": "code",
   "execution_count": null,
   "id": "4f2c8bed-6d8d-4060-aa11-386d0d78f4ee",
   "metadata": {},
   "outputs": [],
   "source": [
    "#dfM2"
   ]
  },
  {
   "cell_type": "code",
   "execution_count": null,
   "id": "00fd9dbd-75ad-4d91-9cfe-d538e9783779",
   "metadata": {},
   "outputs": [],
   "source": [
    "#dfM2.isnull().sum()"
   ]
  },
  {
   "cell_type": "code",
   "execution_count": null,
   "id": "91359f2c-8aa7-420d-b38e-f87963d765aa",
   "metadata": {},
   "outputs": [],
   "source": [
    "#set(dfM1[\"Estado\"].unique()) & set(ventas4[\"Estado\"].unique())"
   ]
  },
  {
   "cell_type": "code",
   "execution_count": null,
   "id": "b0818630-37ea-4232-b782-3655e1b2108a",
   "metadata": {},
   "outputs": [],
   "source": [
    "#set(dfM1[\"Fecha\"].unique()) & set(ventas4[\"Fecha\"].unique())"
   ]
  },
  {
   "cell_type": "code",
   "execution_count": null,
   "id": "b84f9779-103a-490f-be5f-ac6fd95e7a24",
   "metadata": {},
   "outputs": [],
   "source": [
    "#dfM1[\"Fecha\"].max() ,ventas4[\"Fecha\"].max(), dfM1[\"Fecha\"].min() ,ventas4[\"Fecha\"].min()"
   ]
  },
  {
   "cell_type": "code",
   "execution_count": null,
   "id": "57e575de-823b-4585-855a-7e139c7bc27f",
   "metadata": {
    "tags": []
   },
   "outputs": [],
   "source": [
    "# for i in ventas4[\"Fecha\"].sort_values(ascending=False):\n",
    "#     print(i)"
   ]
  },
  {
   "cell_type": "code",
   "execution_count": null,
   "id": "2da152e5-197e-4f2c-83b5-22d2c406969a",
   "metadata": {
    "tags": []
   },
   "outputs": [],
   "source": [
    "# for i in dfM1[\"Fecha\"].sort_values(ascending=False):\n",
    "#     print(i)"
   ]
  },
  {
   "cell_type": "code",
   "execution_count": null,
   "id": "d4d5b1d3-456a-4b3b-bdc3-db9d8b026519",
   "metadata": {
    "tags": []
   },
   "outputs": [],
   "source": [
    "#dfM1[\"Fecha\"].unique()"
   ]
  },
  {
   "cell_type": "code",
   "execution_count": null,
   "id": "878a8e77-3a8f-4feb-8e24-c19b23f3298c",
   "metadata": {
    "tags": []
   },
   "outputs": [],
   "source": [
    "#comb1[\"Fecha\"].unique()"
   ]
  },
  {
   "cell_type": "code",
   "execution_count": null,
   "id": "bf8384f3-671f-4a1a-ae89-5fbfe5a91df9",
   "metadata": {
    "tags": []
   },
   "outputs": [],
   "source": [
    "#dfM[\"Fecha\"].unique()"
   ]
  },
  {
   "cell_type": "code",
   "execution_count": null,
   "id": "be50412a-46a3-4fbd-8e91-322f32d29493",
   "metadata": {},
   "outputs": [],
   "source": [
    "#dfM1.shape"
   ]
  },
  {
   "cell_type": "code",
   "execution_count": null,
   "id": "ce070468-ba41-46a0-a8d0-338066cbf747",
   "metadata": {},
   "outputs": [],
   "source": [
    "#dfM1.head()"
   ]
  },
  {
   "cell_type": "code",
   "execution_count": null,
   "id": "d5288edc-09f0-44fa-a1f4-d40e3dcc8c71",
   "metadata": {},
   "outputs": [],
   "source": [
    "#PROBAR HACIENOD MERGE SEPARADO"
   ]
  },
  {
   "cell_type": "code",
   "execution_count": null,
   "id": "9cf80f8b-ff69-4a9f-aecb-23ef5a2d7317",
   "metadata": {},
   "outputs": [],
   "source": [
    "#data_precio_bh_estado.shape , data_sniim_estado.shape"
   ]
  },
  {
   "cell_type": "code",
   "execution_count": null,
   "id": "adf705cc-78a4-4ac9-bbdb-450087dc226b",
   "metadata": {
    "tags": []
   },
   "outputs": [],
   "source": [
    "#dfM.shape"
   ]
  },
  {
   "cell_type": "code",
   "execution_count": null,
   "id": "47aca1ea-e0a3-49ef-ac4d-a0394d33d4eb",
   "metadata": {},
   "outputs": [],
   "source": [
    "#dfM.isnull().sum()"
   ]
  },
  {
   "cell_type": "code",
   "execution_count": null,
   "id": "5ee8a097-72c9-4445-8621-459e670fa6c6",
   "metadata": {},
   "outputs": [],
   "source": [
    "#dfM.head()"
   ]
  },
  {
   "cell_type": "code",
   "execution_count": null,
   "id": "13164ffc-12f3-45ee-a973-092c6ec0a6e7",
   "metadata": {},
   "outputs": [],
   "source": []
  },
  {
   "cell_type": "code",
   "execution_count": 10,
   "id": "302919d7-876b-43e2-8ad0-54cfa87ff0f4",
   "metadata": {},
   "outputs": [],
   "source": [
    "date_time1 = pd.to_datetime(dfM['Fecha'], format='%Y.%m.%d')\n",
    "\n",
    "date_time = date_time1\n",
    "\n",
    "#df=df[[\"valor\"]]\n",
    "\n",
    "timestamp_s = date_time.map(pd.Timestamp.timestamp)\n",
    "\n",
    "##FEATURE ENGINEERING\n",
    "day = 7\n",
    "year = (365.2425)*day\n",
    "mes= 30*day\n",
    "dfM['Day sin'] = np.sin(timestamp_s * (2 * np.pi / day))\n",
    "dfM['Day cos'] = np.cos(timestamp_s * (2 * np.pi / day))\n",
    "dfM['Mes sin'] = np.sin(timestamp_s * (2 * np.pi / mes))\n",
    "dfM['Mes cos'] = np.cos(timestamp_s * (2 * np.pi / mes))\n",
    "dfM['Year sin'] = np.sin(timestamp_s * (2 * np.pi / year))\n",
    "dfM['Year cos'] = np.cos(timestamp_s * (2 * np.pi / year))"
   ]
  },
  {
   "cell_type": "code",
   "execution_count": null,
   "id": "2e1656e4-afbf-45e9-b953-9d18d6ea166b",
   "metadata": {},
   "outputs": [],
   "source": [
    "\n"
   ]
  },
  {
   "cell_type": "code",
   "execution_count": null,
   "id": "fe805a28-05a8-41d6-b9a2-9850bc153e64",
   "metadata": {
    "tags": []
   },
   "outputs": [],
   "source": [
    "dfM.columns"
   ]
  },
  {
   "cell_type": "code",
   "execution_count": null,
   "id": "3d4ac0e1-2e33-4d9c-8c90-3e1dd2e4745a",
   "metadata": {},
   "outputs": [],
   "source": [
    "dfM.isnull().sum()"
   ]
  },
  {
   "cell_type": "code",
   "execution_count": null,
   "id": "257bcbec-267f-4fe4-8594-f1666d8055c5",
   "metadata": {},
   "outputs": [],
   "source": [
    "dfM.head()"
   ]
  },
  {
   "cell_type": "code",
   "execution_count": null,
   "id": "7d8a39e7-63da-4545-a316-5d42913bab15",
   "metadata": {},
   "outputs": [],
   "source": [
    "# date_time1 = pd.to_datetime(df.pop('date_time'), format='%Y.%m.%d')\n",
    "\n",
    "# date_time = date_time1\n",
    "\n",
    "# df=df[[\"valor\"]]\n",
    "\n",
    "# timestamp_s = date_time.map(pd.Timestamp.timestamp)\n",
    "\n",
    "# ##FEATURE ENGINEERING\n",
    "# day = 7\n",
    "# year = (365.2425)*day\n",
    "\n",
    "# df['Day sin'] = np.sin(timestamp_s * (2 * np.pi / day))\n",
    "# df['Day cos'] = np.cos(timestamp_s * (2 * np.pi / day))\n",
    "# df['Year sin'] = np.sin(timestamp_s * (2 * np.pi / year))\n",
    "# df['Year cos'] = np.cos(timestamp_s * (2 * np.pi / year))"
   ]
  },
  {
   "cell_type": "code",
   "execution_count": null,
   "id": "94b83c5d-3201-417b-8d72-93684bf90a00",
   "metadata": {},
   "outputs": [],
   "source": []
  },
  {
   "cell_type": "code",
   "execution_count": 11,
   "id": "35229f26-ae10-4b63-a551-2348d75c4b62",
   "metadata": {},
   "outputs": [],
   "source": [
    "bh= dfM[[\"Fecha\",\"Ingenio\",\"Precio_Base_Promedio\",'Day sin', 'Day cos', 'Year sin', 'Year cos']].copy()\n",
    "sniim = dfM[[\"Fecha\",\"Estado\",\"Ingenio\",\"Valor_Promedio_SNIIM\",'Day sin', 'Day cos', 'Year sin', 'Year cos']].copy()"
   ]
  },
  {
   "cell_type": "code",
   "execution_count": null,
   "id": "2f10d458-e35a-4946-aa19-e143b3ddaf2a",
   "metadata": {},
   "outputs": [],
   "source": [
    "bh.shape, sniim.shape"
   ]
  },
  {
   "cell_type": "markdown",
   "id": "d802f0f2-c8e5-4524-980b-dad311ac8192",
   "metadata": {},
   "source": [
    "#### Preprocesamiento"
   ]
  },
  {
   "cell_type": "code",
   "execution_count": 12,
   "id": "c90ad89e-f4be-4354-9294-c7ded01da004",
   "metadata": {},
   "outputs": [],
   "source": [
    "#import windows\n",
    "import prepro"
   ]
  },
  {
   "cell_type": "code",
   "execution_count": 13,
   "id": "b96e48c2-61ce-4c95-99f4-95cdc6fad7c1",
   "metadata": {
    "tags": []
   },
   "outputs": [],
   "source": [
    "#funcion.funcion(bh,\"Ingenio\",\"Fecha\")"
   ]
  },
  {
   "cell_type": "code",
   "execution_count": 14,
   "id": "0cdb31c2-9a98-43fb-97b3-04d087fac154",
   "metadata": {},
   "outputs": [],
   "source": [
    "a=prepro.funcion(bh,\"Ingenio\",\"Fecha\")\n",
    "b=prepro.funcion(sniim,\"Ingenio\",\"Fecha\")"
   ]
  },
  {
   "cell_type": "code",
   "execution_count": 15,
   "id": "b69274b7-74a3-4ae1-bb12-c895dbd0a6a6",
   "metadata": {},
   "outputs": [],
   "source": [
    "# def splitdata(df):    \n",
    "#     split = train_test_split(df[1], df[2], test_size=0.25, random_state=42)\n",
    "#     (trainX, testX, trainY, testY) = split\n",
    "#     trainX=np.expand_dims(trainX,axis=-1)\n",
    "#     testX=np.expand_dims(testX,axis=-1)\n",
    "#     trainY=np.expand_dims(trainY,axis=-1)\n",
    "#     testY=np.expand_dims(testY,axis=-1)\n",
    "#     return trainX, testX, trainY, testY"
   ]
  },
  {
   "cell_type": "code",
   "execution_count": 16,
   "id": "8172e4ce-ebc9-4d28-a387-6a4b76a1974e",
   "metadata": {},
   "outputs": [],
   "source": [
    "trainX, testX, trainY, testY = prepro.splitdata(a)\n",
    "trainX1, testX1, trainY1, testY1 = prepro.splitdata(b)"
   ]
  },
  {
   "cell_type": "code",
   "execution_count": 17,
   "id": "d0c85120-43fa-4fdb-a2b7-61eadebd4c1c",
   "metadata": {},
   "outputs": [
    {
     "data": {
      "text/plain": [
       "((5615, 6, 1), (5615, 6, 1))"
      ]
     },
     "execution_count": 17,
     "metadata": {},
     "output_type": "execute_result"
    }
   ],
   "source": [
    "trainX.shape , trainX1.shape"
   ]
  },
  {
   "cell_type": "code",
   "execution_count": null,
   "id": "8d6bb53c-1292-47f0-86dd-78b39e88037e",
   "metadata": {},
   "outputs": [],
   "source": [
    "# #MAX_EPOCHS = 20\n",
    "# def compile_and_fit(model,trainX,trainY,testX,testY,BATCH_SIZE, MAX_EPOCHS,LR):\n",
    "#   early_stopping = tf.keras.callbacks.EarlyStopping(monitor='val_loss',patience=20,mode='min')\n",
    "#   model.compile(loss=tf.losses.MeanSquaredError(),optimizer=tf.optimizers.Adam(learning_rate=LR),metrics=[tf.metrics.MeanAbsoluteError()])  #0.001 0.0001 0.01\n",
    "#   history = model.fit( x=trainX,   y=trainY,\n",
    "#     validation_data=(testX, testY),\n",
    "#     epochs=MAX_EPOCHS,\n",
    "#     batch_size=BATCH_SIZE )\n",
    "                    \n",
    "#     #validation_data=validation_data,callbacks=[early_stopping])\n",
    "#   return history"
   ]
  },
  {
   "cell_type": "code",
   "execution_count": null,
   "id": "f8e95d62-d93f-4b7d-9c6f-1af4688f733f",
   "metadata": {
    "tags": []
   },
   "outputs": [],
   "source": [
    "#lstm_model.summary()"
   ]
  },
  {
   "cell_type": "code",
   "execution_count": null,
   "id": "575c8335-5be1-43de-8dbf-c7fb60557936",
   "metadata": {},
   "outputs": [],
   "source": [
    "trainX.shape"
   ]
  },
  {
   "cell_type": "code",
   "execution_count": 18,
   "id": "78647dc1-2dee-4df3-ab56-77e9a83498fe",
   "metadata": {
    "tags": []
   },
   "outputs": [],
   "source": [
    "from keras.models import Sequential\n",
    "from keras.layers import Dense\n",
    "\n",
    "from tensorflow.keras.preprocessing import image \n",
    "from tensorflow.keras.models import Model \n",
    "from tensorflow.keras.layers import Dense, GlobalAveragePooling2D \n",
    "from tensorflow.keras import backend as K"
   ]
  },
  {
   "cell_type": "code",
   "execution_count": null,
   "id": "1c17e568-f647-4a3f-9261-f0d07d2d94c5",
   "metadata": {
    "tags": []
   },
   "outputs": [],
   "source": [
    "#inputs  = Input(shape=(1,6))\n",
    "inputs  = Input(shape=(6,1))\n",
    "x = LSTM(64,activation=\"relu\",return_sequences=True)(inputs)\n",
    "x = Dropout(0.7)(x)\n",
    "x = Dense(64, activation=\"relu\")(x)\n",
    "x = Dropout(0.7)(x)\n",
    "x = Dense(16, activation=\"relu\")(x)\n",
    "lstm_model = Model(inputs, x)\n",
    "\n",
    "\n",
    "# lstm_model.compile(loss=tf.losses.MeanSquaredError(),optimizer=tf.optimizers.Adam(learning_rate=LR),metrics=[tf.metrics.MeanAbsoluteError()])"
   ]
  },
  {
   "cell_type": "code",
   "execution_count": null,
   "id": "4c139932-3492-42e8-ad4f-c49d6eb50ca0",
   "metadata": {},
   "outputs": [],
   "source": [
    "lstm_model"
   ]
  },
  {
   "cell_type": "code",
   "execution_count": 29,
   "id": "7466f894-f597-44a7-9912-4b01b9147312",
   "metadata": {},
   "outputs": [],
   "source": [
    "def compile_and_fit(model,trainX,trainY,testX,testY,BATCH_SIZE, MAX_EPOCHS,LR):\n",
    "  early_stopping = tf.keras.callbacks.EarlyStopping(monitor='val_loss',patience=20,mode='min')\n",
    "  model.compile(loss=tf.losses.MeanSquaredError(),optimizer=tf.optimizers.Adam(learning_rate=LR),metrics=[tf.metrics.MeanAbsoluteError()])  #0.001 0.0001 0.01\n",
    "  history = model.fit( x=trainX,   y=trainY,\n",
    "    validation_data=(testX, testY),\n",
    "    epochs=MAX_EPOCHS,\n",
    "    batch_size=BATCH_SIZE )\n",
    "                    \n",
    "    #validation_data=validation_data,callbacks=[early_stopping])\n",
    "  return history"
   ]
  },
  {
   "cell_type": "code",
   "execution_count": 19,
   "id": "d429351c-5d9f-4d6a-9781-e0899935cd17",
   "metadata": {},
   "outputs": [],
   "source": [
    "import modelado"
   ]
  },
  {
   "cell_type": "code",
   "execution_count": null,
   "id": "aa08e199-e9f6-4698-9221-f369390989bb",
   "metadata": {},
   "outputs": [],
   "source": [
    "#lstm_model=modelado.red_neuronal1\n",
    "#lstm_model1=modelado.red_neuronal1"
   ]
  },
  {
   "cell_type": "code",
   "execution_count": null,
   "id": "d4313da4-85e9-494c-841a-3474c9b4aca4",
   "metadata": {},
   "outputs": [],
   "source": [
    "lstm_model"
   ]
  },
  {
   "cell_type": "code",
   "execution_count": null,
   "id": "973a496d-70a3-4b07-b4ea-3e4ab5c68acb",
   "metadata": {
    "tags": []
   },
   "outputs": [],
   "source": [
    "trainX1.shape, trainY1.shape"
   ]
  },
  {
   "cell_type": "code",
   "execution_count": null,
   "id": "e56e08b8-6548-4916-a0ff-67317fc580a5",
   "metadata": {
    "tags": []
   },
   "outputs": [],
   "source": [
    "inputs  = Input(shape=(6,1))\n",
    "y = LSTM(64,activation=\"relu\",return_sequences=True)(inputs)\n",
    "y = Dropout(0.7)(y)\n",
    "y = Dense(64, activation=\"relu\")(y)\n",
    "y = Dropout(0.7)(y)\n",
    "y = Dense(16, activation=\"relu\")(y)\n",
    "lstm_model1 = Model(inputs, y)\n",
    "\n",
    "lstm_model1"
   ]
  },
  {
   "cell_type": "code",
   "execution_count": null,
   "id": "7f38b2f3-5758-4c05-b71c-5c194b913685",
   "metadata": {},
   "outputs": [],
   "source": [
    "a=modelado.red_neuronal1"
   ]
  },
  {
   "cell_type": "code",
   "execution_count": null,
   "id": "ecbb8a7e-2e54-4f25-b433-f437e88e2a54",
   "metadata": {},
   "outputs": [],
   "source": [
    "a"
   ]
  },
  {
   "cell_type": "code",
   "execution_count": null,
   "id": "76493208-da2e-4beb-90e4-127894a48ecf",
   "metadata": {},
   "outputs": [],
   "source": [
    "lstm_"
   ]
  },
  {
   "cell_type": "code",
   "execution_count": null,
   "id": "02fc13c6-55d6-4503-9e0d-e26b8a651aef",
   "metadata": {},
   "outputs": [],
   "source": [
    "combinedInput = concatenate([lstm_model.output, lstm_model.output])"
   ]
  },
  {
   "cell_type": "code",
   "execution_count": 26,
   "id": "fed31271-6711-4b03-b30e-8a86b4f2e927",
   "metadata": {},
   "outputs": [],
   "source": [
    "rn1= modelado.red_neuronal1()\n",
    "rn2= modelado.red_neuronal1()"
   ]
  },
  {
   "cell_type": "code",
   "execution_count": 27,
   "id": "49c96ba4-8b22-4284-a7b8-d32b1a7bdeb6",
   "metadata": {},
   "outputs": [],
   "source": [
    "combinedInput = concatenate([rn1.output, rn2.output])"
   ]
  },
  {
   "cell_type": "code",
   "execution_count": 22,
   "id": "084a79cb-4550-47f9-b66a-dd025dd5ccd4",
   "metadata": {},
   "outputs": [
    {
     "data": {
      "text/plain": [
       "<KerasTensor: shape=(None, 6, 32) dtype=float32 (created by layer 'concatenate')>"
      ]
     },
     "execution_count": 22,
     "metadata": {},
     "output_type": "execute_result"
    }
   ],
   "source": [
    "combinedInput"
   ]
  },
  {
   "cell_type": "code",
   "execution_count": null,
   "id": "ac87e703-8614-4347-8862-5bda491b4095",
   "metadata": {},
   "outputs": [],
   "source": []
  },
  {
   "cell_type": "code",
   "execution_count": null,
   "id": "1601e9c8-a424-465f-b095-b6f8bda8397e",
   "metadata": {},
   "outputs": [],
   "source": []
  },
  {
   "cell_type": "code",
   "execution_count": null,
   "id": "bceb3cde-b053-471f-959f-9bdd28383a41",
   "metadata": {},
   "outputs": [],
   "source": [
    "#history1 = compile_and_fit(lstm_model1,trainX1,trainY1,testX1,testY1,128,200,0.0001)"
   ]
  },
  {
   "cell_type": "code",
   "execution_count": null,
   "id": "75b9883f-7116-4d77-96b4-ea60d9c8cf9f",
   "metadata": {},
   "outputs": [],
   "source": [
    "# trainX, testX, trainY, testY = splitdata(a)\n",
    "# trainX1, testX1, trainY1, testY1 = splitdata(b)"
   ]
  },
  {
   "cell_type": "code",
   "execution_count": null,
   "id": "24b1e545-468e-467c-a2af-ab548a2a2e82",
   "metadata": {},
   "outputs": [],
   "source": [
    "trainX.shape, testX.shape, trainY.shape, testY.shape"
   ]
  },
  {
   "cell_type": "code",
   "execution_count": null,
   "id": "e36f3cca-3fac-411a-bcad-d7c94be194f4",
   "metadata": {},
   "outputs": [],
   "source": [
    "trainX1.shape, testX1.shape, trainY1.shape, testY1.shape"
   ]
  },
  {
   "cell_type": "code",
   "execution_count": null,
   "id": "a79f8c93-d256-4d76-aca6-de147ef5c7b8",
   "metadata": {},
   "outputs": [],
   "source": [
    "#conv1d = Conv1D(input_shape=(16,1), kernel_size=2, filters=2)"
   ]
  },
  {
   "cell_type": "code",
   "execution_count": 23,
   "id": "662d3e81-6734-40bc-99a6-4123dece2edc",
   "metadata": {},
   "outputs": [],
   "source": [
    "from keras.layers.convolutional import Conv1D    "
   ]
  },
  {
   "cell_type": "code",
   "execution_count": 30,
   "id": "5464a322-a4a7-41e3-9e2e-0fdc96b41634",
   "metadata": {},
   "outputs": [
    {
     "name": "stdout",
     "output_type": "stream",
     "text": [
      "Epoch 1/100\n",
      "WARNING:tensorflow:AutoGraph could not transform <function Model.make_train_function.<locals>.train_function at 0x7fbf1fbc2d40> and will run it as-is.\n",
      "Please report this to the TensorFlow team. When filing the bug, set the verbosity to 10 (on Linux, `export AUTOGRAPH_VERBOSITY=10`) and attach the full output.\n",
      "Cause: 'arguments' object has no attribute 'posonlyargs'\n",
      "To silence this warning, decorate the function with @tf.autograph.experimental.do_not_convert\n",
      "WARNING: AutoGraph could not transform <function Model.make_train_function.<locals>.train_function at 0x7fbf1fbc2d40> and will run it as-is.\n",
      "Please report this to the TensorFlow team. When filing the bug, set the verbosity to 10 (on Linux, `export AUTOGRAPH_VERBOSITY=10`) and attach the full output.\n",
      "Cause: 'arguments' object has no attribute 'posonlyargs'\n",
      "To silence this warning, decorate the function with @tf.autograph.experimental.do_not_convert\n",
      "175/176 [============================>.] - ETA: 0s - loss: 0.7139 - mean_absolute_error: 0.7017WARNING:tensorflow:AutoGraph could not transform <function Model.make_test_function.<locals>.test_function at 0x7fbf1ea1bf80> and will run it as-is.\n",
      "Please report this to the TensorFlow team. When filing the bug, set the verbosity to 10 (on Linux, `export AUTOGRAPH_VERBOSITY=10`) and attach the full output.\n",
      "Cause: 'arguments' object has no attribute 'posonlyargs'\n",
      "To silence this warning, decorate the function with @tf.autograph.experimental.do_not_convert\n",
      "WARNING: AutoGraph could not transform <function Model.make_test_function.<locals>.test_function at 0x7fbf1ea1bf80> and will run it as-is.\n",
      "Please report this to the TensorFlow team. When filing the bug, set the verbosity to 10 (on Linux, `export AUTOGRAPH_VERBOSITY=10`) and attach the full output.\n",
      "Cause: 'arguments' object has no attribute 'posonlyargs'\n",
      "To silence this warning, decorate the function with @tf.autograph.experimental.do_not_convert\n",
      "176/176 [==============================] - 6s 15ms/step - loss: 0.7126 - mean_absolute_error: 0.7010 - val_loss: 0.4161 - val_mean_absolute_error: 0.5188\n",
      "Epoch 2/100\n",
      "176/176 [==============================] - 2s 12ms/step - loss: 0.3260 - mean_absolute_error: 0.4020 - val_loss: 0.2349 - val_mean_absolute_error: 0.2566\n",
      "Epoch 3/100\n",
      "176/176 [==============================] - 2s 11ms/step - loss: 0.2317 - mean_absolute_error: 0.2987 - val_loss: 0.1863 - val_mean_absolute_error: 0.2158\n",
      "Epoch 4/100\n",
      "176/176 [==============================] - 2s 11ms/step - loss: 0.1859 - mean_absolute_error: 0.2560 - val_loss: 0.1598 - val_mean_absolute_error: 0.1941\n",
      "Epoch 5/100\n",
      "176/176 [==============================] - 3s 17ms/step - loss: 0.1572 - mean_absolute_error: 0.2262 - val_loss: 0.1469 - val_mean_absolute_error: 0.1810\n",
      "Epoch 6/100\n",
      "176/176 [==============================] - 2s 11ms/step - loss: 0.1384 - mean_absolute_error: 0.2051 - val_loss: 0.1411 - val_mean_absolute_error: 0.1798\n",
      "Epoch 7/100\n",
      "176/176 [==============================] - 2s 11ms/step - loss: 0.1238 - mean_absolute_error: 0.1872 - val_loss: 0.1360 - val_mean_absolute_error: 0.1785\n",
      "Epoch 8/100\n",
      "176/176 [==============================] - 2s 12ms/step - loss: 0.1143 - mean_absolute_error: 0.1751 - val_loss: 0.1434 - val_mean_absolute_error: 0.1855\n",
      "Epoch 9/100\n",
      "176/176 [==============================] - 2s 11ms/step - loss: 0.1042 - mean_absolute_error: 0.1617 - val_loss: 0.1333 - val_mean_absolute_error: 0.1806\n",
      "Epoch 10/100\n",
      "176/176 [==============================] - 2s 11ms/step - loss: 0.0993 - mean_absolute_error: 0.1508 - val_loss: 0.1191 - val_mean_absolute_error: 0.1628\n",
      "Epoch 11/100\n",
      "176/176 [==============================] - 2s 12ms/step - loss: 0.0927 - mean_absolute_error: 0.1426 - val_loss: 0.1155 - val_mean_absolute_error: 0.1608\n",
      "Epoch 12/100\n",
      "176/176 [==============================] - 2s 11ms/step - loss: 0.0884 - mean_absolute_error: 0.1343 - val_loss: 0.1120 - val_mean_absolute_error: 0.1600\n",
      "Epoch 13/100\n",
      "176/176 [==============================] - 2s 11ms/step - loss: 0.0829 - mean_absolute_error: 0.1264 - val_loss: 0.1086 - val_mean_absolute_error: 0.1535\n",
      "Epoch 14/100\n",
      "176/176 [==============================] - 2s 11ms/step - loss: 0.0802 - mean_absolute_error: 0.1216 - val_loss: 0.1028 - val_mean_absolute_error: 0.1559\n",
      "Epoch 15/100\n",
      "176/176 [==============================] - 2s 12ms/step - loss: 0.0758 - mean_absolute_error: 0.1148 - val_loss: 0.0914 - val_mean_absolute_error: 0.1400\n",
      "Epoch 16/100\n",
      "176/176 [==============================] - 2s 11ms/step - loss: 0.0732 - mean_absolute_error: 0.1087 - val_loss: 0.0884 - val_mean_absolute_error: 0.1236\n",
      "Epoch 17/100\n",
      "176/176 [==============================] - 2s 12ms/step - loss: 0.0705 - mean_absolute_error: 0.1039 - val_loss: 0.0939 - val_mean_absolute_error: 0.1394\n",
      "Epoch 18/100\n",
      "176/176 [==============================] - 2s 12ms/step - loss: 0.0681 - mean_absolute_error: 0.1001 - val_loss: 0.0840 - val_mean_absolute_error: 0.1217\n",
      "Epoch 19/100\n",
      "176/176 [==============================] - 2s 11ms/step - loss: 0.0673 - mean_absolute_error: 0.0971 - val_loss: 0.0790 - val_mean_absolute_error: 0.1182\n",
      "Epoch 20/100\n",
      "176/176 [==============================] - 2s 12ms/step - loss: 0.0643 - mean_absolute_error: 0.0922 - val_loss: 0.0766 - val_mean_absolute_error: 0.1181\n",
      "Epoch 21/100\n",
      "176/176 [==============================] - 2s 11ms/step - loss: 0.0645 - mean_absolute_error: 0.0903 - val_loss: 0.0781 - val_mean_absolute_error: 0.1193\n",
      "Epoch 22/100\n",
      "176/176 [==============================] - 2s 11ms/step - loss: 0.0616 - mean_absolute_error: 0.0861 - val_loss: 0.0688 - val_mean_absolute_error: 0.0995\n",
      "Epoch 23/100\n",
      "176/176 [==============================] - 2s 12ms/step - loss: 0.0609 - mean_absolute_error: 0.0835 - val_loss: 0.0682 - val_mean_absolute_error: 0.0963\n",
      "Epoch 24/100\n",
      "176/176 [==============================] - 2s 11ms/step - loss: 0.0592 - mean_absolute_error: 0.0806 - val_loss: 0.0626 - val_mean_absolute_error: 0.0937\n",
      "Epoch 25/100\n",
      "176/176 [==============================] - 2s 11ms/step - loss: 0.0586 - mean_absolute_error: 0.0783 - val_loss: 0.0628 - val_mean_absolute_error: 0.0941\n",
      "Epoch 26/100\n",
      "176/176 [==============================] - 2s 12ms/step - loss: 0.0578 - mean_absolute_error: 0.0766 - val_loss: 0.0628 - val_mean_absolute_error: 0.0921\n",
      "Epoch 27/100\n",
      "176/176 [==============================] - 2s 12ms/step - loss: 0.0572 - mean_absolute_error: 0.0752 - val_loss: 0.0614 - val_mean_absolute_error: 0.0893\n",
      "Epoch 28/100\n",
      "176/176 [==============================] - 2s 11ms/step - loss: 0.0565 - mean_absolute_error: 0.0732 - val_loss: 0.0586 - val_mean_absolute_error: 0.0813\n",
      "Epoch 29/100\n",
      "176/176 [==============================] - 2s 12ms/step - loss: 0.0559 - mean_absolute_error: 0.0724 - val_loss: 0.0555 - val_mean_absolute_error: 0.0761\n",
      "Epoch 30/100\n",
      "176/176 [==============================] - 2s 11ms/step - loss: 0.0552 - mean_absolute_error: 0.0705 - val_loss: 0.0600 - val_mean_absolute_error: 0.0835\n",
      "Epoch 31/100\n",
      "176/176 [==============================] - 2s 11ms/step - loss: 0.0540 - mean_absolute_error: 0.0692 - val_loss: 0.0522 - val_mean_absolute_error: 0.0714\n",
      "Epoch 32/100\n",
      "176/176 [==============================] - 2s 11ms/step - loss: 0.0539 - mean_absolute_error: 0.0680 - val_loss: 0.0534 - val_mean_absolute_error: 0.0718\n",
      "Epoch 33/100\n",
      "176/176 [==============================] - 2s 11ms/step - loss: 0.0538 - mean_absolute_error: 0.0670 - val_loss: 0.0507 - val_mean_absolute_error: 0.0672\n",
      "Epoch 34/100\n",
      "176/176 [==============================] - 2s 12ms/step - loss: 0.0534 - mean_absolute_error: 0.0654 - val_loss: 0.0496 - val_mean_absolute_error: 0.0648\n",
      "Epoch 35/100\n",
      "176/176 [==============================] - 3s 17ms/step - loss: 0.0538 - mean_absolute_error: 0.0659 - val_loss: 0.0505 - val_mean_absolute_error: 0.0669\n",
      "Epoch 36/100\n",
      "176/176 [==============================] - 2s 11ms/step - loss: 0.0526 - mean_absolute_error: 0.0633 - val_loss: 0.0492 - val_mean_absolute_error: 0.0709\n",
      "Epoch 37/100\n",
      "176/176 [==============================] - 2s 11ms/step - loss: 0.0528 - mean_absolute_error: 0.0642 - val_loss: 0.0483 - val_mean_absolute_error: 0.0660\n",
      "Epoch 38/100\n",
      "176/176 [==============================] - 2s 12ms/step - loss: 0.0520 - mean_absolute_error: 0.0629 - val_loss: 0.0490 - val_mean_absolute_error: 0.0702\n",
      "Epoch 39/100\n",
      "176/176 [==============================] - 2s 11ms/step - loss: 0.0519 - mean_absolute_error: 0.0624 - val_loss: 0.0456 - val_mean_absolute_error: 0.0574\n",
      "Epoch 40/100\n",
      "176/176 [==============================] - 2s 12ms/step - loss: 0.0522 - mean_absolute_error: 0.0621 - val_loss: 0.0451 - val_mean_absolute_error: 0.0588\n",
      "Epoch 41/100\n",
      "176/176 [==============================] - 2s 11ms/step - loss: 0.0514 - mean_absolute_error: 0.0623 - val_loss: 0.0440 - val_mean_absolute_error: 0.0545\n",
      "Epoch 42/100\n",
      "176/176 [==============================] - 2s 12ms/step - loss: 0.0517 - mean_absolute_error: 0.0601 - val_loss: 0.0450 - val_mean_absolute_error: 0.0564\n",
      "Epoch 43/100\n",
      "176/176 [==============================] - 2s 11ms/step - loss: 0.0511 - mean_absolute_error: 0.0602 - val_loss: 0.0440 - val_mean_absolute_error: 0.0538\n",
      "Epoch 44/100\n",
      "176/176 [==============================] - 2s 11ms/step - loss: 0.0512 - mean_absolute_error: 0.0606 - val_loss: 0.0473 - val_mean_absolute_error: 0.0611\n",
      "Epoch 45/100\n",
      "176/176 [==============================] - 2s 12ms/step - loss: 0.0510 - mean_absolute_error: 0.0597 - val_loss: 0.0471 - val_mean_absolute_error: 0.0695\n",
      "Epoch 46/100\n",
      "176/176 [==============================] - 2s 11ms/step - loss: 0.0509 - mean_absolute_error: 0.0602 - val_loss: 0.0435 - val_mean_absolute_error: 0.0561\n",
      "Epoch 47/100\n",
      "176/176 [==============================] - 2s 11ms/step - loss: 0.0509 - mean_absolute_error: 0.0589 - val_loss: 0.0439 - val_mean_absolute_error: 0.0565\n",
      "Epoch 48/100\n",
      "176/176 [==============================] - 2s 11ms/step - loss: 0.0510 - mean_absolute_error: 0.0593 - val_loss: 0.0442 - val_mean_absolute_error: 0.0560\n",
      "Epoch 49/100\n",
      "176/176 [==============================] - 2s 12ms/step - loss: 0.0507 - mean_absolute_error: 0.0579 - val_loss: 0.0430 - val_mean_absolute_error: 0.0628\n",
      "Epoch 50/100\n",
      "176/176 [==============================] - 2s 11ms/step - loss: 0.0508 - mean_absolute_error: 0.0581 - val_loss: 0.0429 - val_mean_absolute_error: 0.0554\n",
      "Epoch 51/100\n",
      "176/176 [==============================] - 2s 11ms/step - loss: 0.0506 - mean_absolute_error: 0.0576 - val_loss: 0.0417 - val_mean_absolute_error: 0.0589\n",
      "Epoch 52/100\n",
      "176/176 [==============================] - 2s 11ms/step - loss: 0.0503 - mean_absolute_error: 0.0578 - val_loss: 0.0415 - val_mean_absolute_error: 0.0552\n",
      "Epoch 53/100\n",
      "176/176 [==============================] - 2s 12ms/step - loss: 0.0504 - mean_absolute_error: 0.0571 - val_loss: 0.0418 - val_mean_absolute_error: 0.0577\n",
      "Epoch 54/100\n",
      "176/176 [==============================] - 2s 11ms/step - loss: 0.0503 - mean_absolute_error: 0.0570 - val_loss: 0.0414 - val_mean_absolute_error: 0.0592\n",
      "Epoch 55/100\n",
      "176/176 [==============================] - 2s 11ms/step - loss: 0.0502 - mean_absolute_error: 0.0576 - val_loss: 0.0420 - val_mean_absolute_error: 0.0545\n",
      "Epoch 56/100\n",
      "176/176 [==============================] - 2s 11ms/step - loss: 0.0500 - mean_absolute_error: 0.0564 - val_loss: 0.0424 - val_mean_absolute_error: 0.0542\n",
      "Epoch 57/100\n",
      "176/176 [==============================] - 2s 11ms/step - loss: 0.0503 - mean_absolute_error: 0.0579 - val_loss: 0.0419 - val_mean_absolute_error: 0.0546\n",
      "Epoch 58/100\n",
      "176/176 [==============================] - 2s 12ms/step - loss: 0.0502 - mean_absolute_error: 0.0564 - val_loss: 0.0419 - val_mean_absolute_error: 0.0494\n",
      "Epoch 59/100\n",
      "176/176 [==============================] - 2s 11ms/step - loss: 0.0501 - mean_absolute_error: 0.0569 - val_loss: 0.0424 - val_mean_absolute_error: 0.0493\n",
      "Epoch 60/100\n",
      "176/176 [==============================] - 2s 11ms/step - loss: 0.0502 - mean_absolute_error: 0.0562 - val_loss: 0.0429 - val_mean_absolute_error: 0.0507\n",
      "Epoch 61/100\n",
      "176/176 [==============================] - 2s 11ms/step - loss: 0.0502 - mean_absolute_error: 0.0575 - val_loss: 0.0423 - val_mean_absolute_error: 0.0626\n",
      "Epoch 62/100\n",
      "176/176 [==============================] - 2s 11ms/step - loss: 0.0502 - mean_absolute_error: 0.0570 - val_loss: 0.0413 - val_mean_absolute_error: 0.0676\n",
      "Epoch 63/100\n",
      "176/176 [==============================] - 2s 11ms/step - loss: 0.0500 - mean_absolute_error: 0.0563 - val_loss: 0.0418 - val_mean_absolute_error: 0.0579\n",
      "Epoch 64/100\n",
      "176/176 [==============================] - 3s 17ms/step - loss: 0.0497 - mean_absolute_error: 0.0558 - val_loss: 0.0435 - val_mean_absolute_error: 0.0525\n",
      "Epoch 65/100\n",
      "176/176 [==============================] - 2s 11ms/step - loss: 0.0499 - mean_absolute_error: 0.0559 - val_loss: 0.0418 - val_mean_absolute_error: 0.0571\n",
      "Epoch 66/100\n",
      "176/176 [==============================] - 2s 11ms/step - loss: 0.0499 - mean_absolute_error: 0.0564 - val_loss: 0.0410 - val_mean_absolute_error: 0.0550\n",
      "Epoch 67/100\n",
      "176/176 [==============================] - 2s 12ms/step - loss: 0.0498 - mean_absolute_error: 0.0556 - val_loss: 0.0410 - val_mean_absolute_error: 0.0463\n",
      "Epoch 68/100\n",
      "176/176 [==============================] - 2s 11ms/step - loss: 0.0499 - mean_absolute_error: 0.0558 - val_loss: 0.0403 - val_mean_absolute_error: 0.0476\n",
      "Epoch 69/100\n",
      "176/176 [==============================] - 2s 11ms/step - loss: 0.0498 - mean_absolute_error: 0.0554 - val_loss: 0.0415 - val_mean_absolute_error: 0.0487\n",
      "Epoch 70/100\n",
      "176/176 [==============================] - 2s 11ms/step - loss: 0.0498 - mean_absolute_error: 0.0550 - val_loss: 0.0413 - val_mean_absolute_error: 0.0507\n",
      "Epoch 71/100\n",
      "176/176 [==============================] - 2s 11ms/step - loss: 0.0500 - mean_absolute_error: 0.0552 - val_loss: 0.0410 - val_mean_absolute_error: 0.0626\n",
      "Epoch 72/100\n",
      "176/176 [==============================] - 2s 12ms/step - loss: 0.0500 - mean_absolute_error: 0.0559 - val_loss: 0.0415 - val_mean_absolute_error: 0.0482\n",
      "Epoch 73/100\n",
      "176/176 [==============================] - 2s 11ms/step - loss: 0.0498 - mean_absolute_error: 0.0559 - val_loss: 0.0399 - val_mean_absolute_error: 0.0517\n",
      "Epoch 74/100\n",
      "176/176 [==============================] - 2s 11ms/step - loss: 0.0498 - mean_absolute_error: 0.0555 - val_loss: 0.0405 - val_mean_absolute_error: 0.0514\n",
      "Epoch 75/100\n",
      "176/176 [==============================] - 2s 12ms/step - loss: 0.0499 - mean_absolute_error: 0.0561 - val_loss: 0.0410 - val_mean_absolute_error: 0.0463\n",
      "Epoch 76/100\n",
      "176/176 [==============================] - 2s 11ms/step - loss: 0.0499 - mean_absolute_error: 0.0555 - val_loss: 0.0410 - val_mean_absolute_error: 0.0463\n",
      "Epoch 77/100\n",
      "176/176 [==============================] - 2s 11ms/step - loss: 0.0499 - mean_absolute_error: 0.0555 - val_loss: 0.0410 - val_mean_absolute_error: 0.0472\n",
      "Epoch 78/100\n",
      "176/176 [==============================] - 2s 12ms/step - loss: 0.0495 - mean_absolute_error: 0.0554 - val_loss: 0.0402 - val_mean_absolute_error: 0.0464\n",
      "Epoch 79/100\n",
      "176/176 [==============================] - 2s 11ms/step - loss: 0.0497 - mean_absolute_error: 0.0541 - val_loss: 0.0402 - val_mean_absolute_error: 0.0566\n",
      "Epoch 80/100\n",
      "176/176 [==============================] - 2s 11ms/step - loss: 0.0496 - mean_absolute_error: 0.0558 - val_loss: 0.0405 - val_mean_absolute_error: 0.0490\n",
      "Epoch 81/100\n",
      "176/176 [==============================] - 2s 12ms/step - loss: 0.0499 - mean_absolute_error: 0.0559 - val_loss: 0.0401 - val_mean_absolute_error: 0.0487\n",
      "Epoch 82/100\n",
      "176/176 [==============================] - 2s 12ms/step - loss: 0.0494 - mean_absolute_error: 0.0541 - val_loss: 0.0401 - val_mean_absolute_error: 0.0575\n",
      "Epoch 83/100\n",
      "176/176 [==============================] - 2s 12ms/step - loss: 0.0497 - mean_absolute_error: 0.0546 - val_loss: 0.0403 - val_mean_absolute_error: 0.0588\n",
      "Epoch 84/100\n",
      "176/176 [==============================] - 2s 11ms/step - loss: 0.0496 - mean_absolute_error: 0.0559 - val_loss: 0.0402 - val_mean_absolute_error: 0.0449\n",
      "Epoch 85/100\n",
      "176/176 [==============================] - 2s 11ms/step - loss: 0.0496 - mean_absolute_error: 0.0548 - val_loss: 0.0397 - val_mean_absolute_error: 0.0502\n",
      "Epoch 86/100\n",
      "176/176 [==============================] - 2s 11ms/step - loss: 0.0496 - mean_absolute_error: 0.0546 - val_loss: 0.0407 - val_mean_absolute_error: 0.0524\n",
      "Epoch 87/100\n",
      "176/176 [==============================] - 2s 11ms/step - loss: 0.0496 - mean_absolute_error: 0.0550 - val_loss: 0.0402 - val_mean_absolute_error: 0.0539\n",
      "Epoch 88/100\n",
      "176/176 [==============================] - 2s 12ms/step - loss: 0.0497 - mean_absolute_error: 0.0538 - val_loss: 0.0416 - val_mean_absolute_error: 0.0532\n",
      "Epoch 89/100\n",
      "176/176 [==============================] - 2s 11ms/step - loss: 0.0496 - mean_absolute_error: 0.0548 - val_loss: 0.0403 - val_mean_absolute_error: 0.0609\n",
      "Epoch 90/100\n",
      "176/176 [==============================] - 2s 11ms/step - loss: 0.0495 - mean_absolute_error: 0.0547 - val_loss: 0.0402 - val_mean_absolute_error: 0.0440\n",
      "Epoch 91/100\n",
      "176/176 [==============================] - 2s 11ms/step - loss: 0.0496 - mean_absolute_error: 0.0537 - val_loss: 0.0419 - val_mean_absolute_error: 0.0604\n",
      "Epoch 92/100\n",
      "176/176 [==============================] - 2s 11ms/step - loss: 0.0494 - mean_absolute_error: 0.0552 - val_loss: 0.0403 - val_mean_absolute_error: 0.0447\n",
      "Epoch 93/100\n",
      "176/176 [==============================] - 3s 19ms/step - loss: 0.0496 - mean_absolute_error: 0.0546 - val_loss: 0.0396 - val_mean_absolute_error: 0.0478\n",
      "Epoch 94/100\n",
      "176/176 [==============================] - 2s 12ms/step - loss: 0.0494 - mean_absolute_error: 0.0546 - val_loss: 0.0403 - val_mean_absolute_error: 0.0491\n",
      "Epoch 95/100\n",
      "176/176 [==============================] - 2s 11ms/step - loss: 0.0494 - mean_absolute_error: 0.0534 - val_loss: 0.0431 - val_mean_absolute_error: 0.0602\n",
      "Epoch 96/100\n",
      "176/176 [==============================] - 2s 11ms/step - loss: 0.0496 - mean_absolute_error: 0.0553 - val_loss: 0.0416 - val_mean_absolute_error: 0.0476\n",
      "Epoch 97/100\n",
      "176/176 [==============================] - 2s 12ms/step - loss: 0.0493 - mean_absolute_error: 0.0535 - val_loss: 0.0410 - val_mean_absolute_error: 0.0576\n",
      "Epoch 98/100\n",
      "176/176 [==============================] - 2s 11ms/step - loss: 0.0495 - mean_absolute_error: 0.0548 - val_loss: 0.0419 - val_mean_absolute_error: 0.0500\n",
      "Epoch 99/100\n",
      "176/176 [==============================] - 2s 11ms/step - loss: 0.0495 - mean_absolute_error: 0.0541 - val_loss: 0.0423 - val_mean_absolute_error: 0.0491\n",
      "Epoch 100/100\n",
      "176/176 [==============================] - 2s 11ms/step - loss: 0.0494 - mean_absolute_error: 0.0549 - val_loss: 0.0410 - val_mean_absolute_error: 0.0460\n"
     ]
    },
    {
     "data": {
      "image/png": "[encoded data removed]",
      "text/plain": [
       "<Figure size 432x288 with 1 Axes>"
      ]
     },
     "metadata": {
      "needs_background": "light"
     },
     "output_type": "display_data"
    },
    {
     "data": {
      "image/png": "[encoded data removed]",
      "text/plain": [
       "<Figure size 432x288 with 1 Axes>"
      ]
     },
     "metadata": {
      "needs_background": "light"
     },
     "output_type": "display_data"
    }
   ],
   "source": [
    "### AQUI FINAL\n",
    "z = Dense(64, activation=\"relu\")(combinedInput)\n",
    "z = Dense(1, activation=\"linear\")(z)\n",
    "model = Model(inputs=[rn1.input, rn2.input], outputs=z)\n",
    "\n",
    "\n",
    "history = compile_and_fit(model,[trainX, trainX1],trainY,[testX, testX1],testY,32,100,0.0001) #32,200,0.0001\n",
    "\n",
    "plt.plot(history.history[\"loss\"], label='Training Loss')\n",
    "plt.plot(history.history[\"val_loss\"], label='Validation Loss')\n",
    "plt.title(\"Training Loss\")\n",
    "plt.legend()\n",
    "plt.show()\n",
    "\n",
    "plt.plot(history.history[\"mean_absolute_error\"], label='mean_absolute_error')\n",
    "plt.plot(history.history[\"val_mean_absolute_error\"], label='val_mean_absolute_error')\n",
    "plt.title(\"Training MAE\")\n",
    "plt.legend()\n",
    "plt.show()"
   ]
  },
  {
   "cell_type": "code",
   "execution_count": null,
   "id": "c719d6bd-ffc9-4aab-bf32-ee5c1f2d1644",
   "metadata": {
    "tags": []
   },
   "outputs": [],
   "source": [
    "### AQUI\n",
    "#z = Dropout(0.7)(combinedInput)\n",
    "z = Dense(64, activation=\"relu\")(combinedInput)\n",
    "#z = Dropout(0.7)(z)\n",
    "#z = Conv1D(input_shape=(None, 64), kernel_size=2, filters=64)(z) \n",
    "#z = Dense(32, activation=\"relu\")(z)\n",
    "# z = Dropout(0.7)(z)\n",
    "\n",
    "#z = Dense(32, activation=\"relu\")(z)\n",
    "#z = Dropout(0.7)(z)\n",
    "\n",
    "# z = Dense(4, activation=\"relu\")(z)\n",
    "# #z = Dense(2, activation=\"relu\")(z)\n",
    "# z = Dropout(0.7)(z)\n",
    "\n",
    "z = Dense(1, activation=\"linear\")(z)\n",
    "model = Model(inputs=[lstm_model.input, lstm_model1.input], outputs=z)\n",
    "\n",
    "\n",
    "history = compile_and_fit(model,[trainX, trainX1],trainY,[testX, testX1],testY,32,100,0.0001) #32,200,0.0001\n",
    "\n",
    "plt.plot(history.history[\"loss\"], label='Training Loss')\n",
    "plt.plot(history.history[\"val_loss\"], label='Validation Loss')\n",
    "plt.title(\"Training Loss\")\n",
    "plt.legend()\n",
    "plt.show()\n",
    "\n",
    "plt.plot(history.history[\"mean_absolute_error\"], label='mean_absolute_error')\n",
    "plt.plot(history.history[\"val_mean_absolute_error\"], label='val_mean_absolute_error')\n",
    "plt.title(\"Training MAE\")\n",
    "plt.legend()\n",
    "plt.show()"
   ]
  },
  {
   "cell_type": "code",
   "execution_count": null,
   "id": "ded41cec-9a5c-43a0-9931-ecffe4f9b712",
   "metadata": {
    "tags": []
   },
   "outputs": [],
   "source": [
    "### AQUI\n",
    "#z = Dropout(0.7)(combinedInput)\n",
    "z = Dense(64, activation=\"relu\")(combinedInput)\n",
    "z = Dropout(0.7)(z)\n",
    "z = Dense(64, activation=\"relu\")(z)\n",
    "\n",
    "z = Conv1D(input_shape=(None, 64), kernel_size=2, filters=16)(z) \n",
    "# z = Dense(8, activation=\"relu\")(z)\n",
    "# z = Dropout(0.7)(z)\n",
    "\n",
    "# z = Dense(8, activation=\"relu\")(z)\n",
    "# z = Dropout(0.7)(z)\n",
    "\n",
    "# z = Dense(4, activation=\"relu\")(z)\n",
    "# #z = Dense(2, activation=\"relu\")(z)\n",
    "# z = Dropout(0.7)(z)\n",
    "\n",
    "z = Dense(1, activation=\"linear\")(z)\n",
    "model = Model(inputs=[lstm_model.input, lstm_model1.input], outputs=z)\n",
    "\n",
    "history = compile_and_fit(model,[trainX, trainX1],trainY,[testX, testX1],testY,32,100,0.0001) #32,200,0.0001\n",
    "\n",
    "plt.plot(history.history[\"loss\"], label='Training Loss')\n",
    "plt.plot(history.history[\"val_loss\"], label='Validation Loss')\n",
    "plt.title(\"Training Loss\")\n",
    "plt.legend()\n",
    "plt.show()\n",
    "\n",
    "plt.plot(history.history[\"mean_absolute_error\"], label='mean_absolute_error')\n",
    "plt.plot(history.history[\"val_mean_absolute_error\"], label='val_mean_absolute_error')\n",
    "plt.title(\"Training MAE\")\n",
    "plt.legend()\n",
    "plt.show()"
   ]
  },
  {
   "cell_type": "code",
   "execution_count": null,
   "id": "7cd12c55-ad8a-4023-b3be-0e64d3d8d6a5",
   "metadata": {
    "tags": []
   },
   "outputs": [],
   "source": [
    "tf.keras.utils.plot_model(model,show_shapes=True,)"
   ]
  },
  {
   "cell_type": "code",
   "execution_count": null,
   "id": "6bac9b4a-1c61-4856-a663-88c11cd3b27f",
   "metadata": {},
   "outputs": [],
   "source": [
    "model.summary()"
   ]
  },
  {
   "cell_type": "code",
   "execution_count": null,
   "id": "5a329ade-9c67-408d-b744-cd11379f8ed5",
   "metadata": {
    "tags": []
   },
   "outputs": [],
   "source": [
    "# z = Dense(8, activation=\"relu\")(combinedInput)\n",
    "# z = Dropout(0.7)(z)\n",
    "\n",
    "# z = Dense(8, activation=\"relu\")(z)\n",
    "# z = Dropout(0.7)(z)\n",
    "\n",
    "# z = Dense(8, activation=\"relu\")(z)\n",
    "# z = Dropout(0.7)(z)\n",
    "\n",
    "# z = Dense(4, activation=\"relu\")(z)\n",
    "# z = Dropout(0.7)(z)\n",
    "\n",
    "# z = Dense(1, activation=\"linear\")(z)\n",
    "# model = Model(inputs=[lstm_model.input, lstm_model1.input], outputs=z)\n",
    "\n",
    "# history = compile_and_fit(model,[trainX, trainX1],trainY,[testX, testX1],testY,64,200,0.0001)\n",
    "\n",
    "# plt.plot(history.history[\"loss\"], label='Training Loss')\n",
    "# plt.plot(history.history[\"val_loss\"], label='Validation Loss')\n",
    "# plt.title(\"Training Loss\")\n",
    "# plt.legend()\n",
    "# plt.show()\n",
    "\n",
    "# plt.plot(history.history[\"mean_absolute_error\"], label='mean_absolute_error')\n",
    "# plt.plot(history.history[\"val_mean_absolute_error\"], label='val_mean_absolute_error')\n",
    "# plt.title(\"Training MAE\")\n",
    "# plt.legend()\n",
    "# plt.show()"
   ]
  },
  {
   "cell_type": "code",
   "execution_count": null,
   "id": "0e76f4d6-e529-46a5-ba93-4b001a143bb7",
   "metadata": {
    "tags": []
   },
   "outputs": [],
   "source": [
    "# z = Dense(8, activation=\"relu\")(combinedInput)\n",
    "# z = Dropout(0.7)(z)\n",
    "# #z = Dense(8, activation=\"relu\")(z)\n",
    "# z = Dense(4, activation=\"relu\")(z)\n",
    "# #z = Dense(2, activation=\"relu\")(z)\n",
    "# z = Dropout(0.7)(z)\n",
    "# z = Dense(1, activation=\"linear\")(z)\n",
    "# model = Model(inputs=[lstm_model.input, lstm_model1.input], outputs=z)\n",
    "\n",
    "# history = compile_and_fit(model,[trainX, trainX1],trainY,[testX, testX1],testY,32,200,0.0001)\n",
    "\n",
    "# plt.plot(history.history[\"loss\"], label='Training Loss')\n",
    "# plt.plot(history.history[\"val_loss\"], label='Validation Loss')\n",
    "# plt.title(\"Training Loss\")\n",
    "# plt.legend()\n",
    "# plt.show()\n",
    "\n",
    "# plt.plot(history.history[\"mean_absolute_error\"], label='mean_absolute_error')\n",
    "# plt.plot(history.history[\"val_mean_absolute_error\"], label='val_mean_absolute_error')\n",
    "# plt.title(\"Training MAE\")\n",
    "# plt.legend()\n",
    "# plt.show()"
   ]
  },
  {
   "cell_type": "code",
   "execution_count": null,
   "id": "5e0cb7dd-3c69-4a46-9cc4-724219c67aaf",
   "metadata": {},
   "outputs": [],
   "source": [
    "plt.plot(history.history[\"loss\"], label='Training Loss')\n",
    "plt.plot(history.history[\"val_loss\"], label='Validation Loss')\n",
    "plt.title(\"Training Loss\")\n",
    "plt.legend()\n",
    "plt.show()\n",
    "\n",
    "plt.plot(history.history[\"mean_absolute_error\"], label='mean_absolute_error')\n",
    "plt.plot(history.history[\"val_mean_absolute_error\"], label='val_mean_absolute_error')\n",
    "plt.title(\"Training MAE\")\n",
    "plt.legend()\n",
    "plt.show()"
   ]
  },
  {
   "cell_type": "code",
   "execution_count": null,
   "id": "4cefc7a9-cae2-4b7d-9d97-4260a533e1f0",
   "metadata": {},
   "outputs": [],
   "source": [
    "plt.plot(history.history[\"loss\"], label='Training Loss')\n",
    "plt.plot(history.history[\"val_loss\"], label='Validation Loss')\n",
    "plt.title(\"Training Loss\")\n",
    "plt.legend()\n",
    "plt.show()\n",
    "\n",
    "plt.plot(history.history[\"mean_absolute_error\"], label='mean_absolute_error')\n",
    "plt.plot(history.history[\"val_mean_absolute_error\"], label='val_mean_absolute_error')\n",
    "plt.title(\"Training MAE\")\n",
    "plt.legend()\n",
    "plt.show()"
   ]
  },
  {
   "cell_type": "code",
   "execution_count": null,
   "id": "8af94268-b3ba-434b-b37b-99ee90f9506a",
   "metadata": {
    "tags": []
   },
   "outputs": [],
   "source": [
    "opt = Adam()\n",
    "early_stopping = tf.keras.callbacks.EarlyStopping(monitor='val_loss',patience=20,mode='min')\n",
    "model.compile(loss=tf.losses.MeanSquaredError(),optimizer=tf.optimizers.Adam(learning_rate=0.001),metrics=[tf.metrics.MeanAbsoluteError()])\n",
    "\n",
    "#early_stopping = tf.keras.callbacks.EarlyStopping(monitor='val_loss',patience=20,mode='min')\n",
    "#  model.compile(loss=tf.losses.MeanSquaredError(),optimizer=tf.optimizers.Adam(learning_rate=LR),metrics=[tf.metrics.MeanAbsoluteError()])\n",
    "\n",
    "model.fit(x=[trainX, trainX1], y=trainY,\n",
    "          validation_data=([testX, testX1], testY),\n",
    "          epochs=200,\n",
    "          batch_size=4)"
   ]
  },
  {
   "cell_type": "code",
   "execution_count": null,
   "id": "94901e59-64f2-4996-8040-b57ec74f2a01",
   "metadata": {},
   "outputs": [],
   "source": [
    "plt.plot(history.history[\"loss\"], label='Training Loss')\n",
    "plt.plot(history.history[\"val_loss\"], label='Validation Loss')\n",
    "plt.title(\"Training Loss\")\n",
    "plt.legend()\n",
    "plt.show()\n",
    "\n",
    "plt.plot(history.history[\"mean_absolute_error\"], label='accuracy')\n",
    "plt.plot(history.history[\"val_mean_absolute_error\"], label='val_accuracy')\n",
    "plt.title(\"accuracy\")\n",
    "plt.legend()\n",
    "plt.show()\n"
   ]
  },
  {
   "cell_type": "code",
   "execution_count": null,
   "id": "310b9b19-d70e-4eab-bbb5-44af6b551337",
   "metadata": {},
   "outputs": [],
   "source": []
  },
  {
   "cell_type": "code",
   "execution_count": null,
   "id": "6727066f-fd59-4f4c-9fed-6bd225b313d7",
   "metadata": {},
   "outputs": [],
   "source": []
  },
  {
   "cell_type": "code",
   "execution_count": null,
   "id": "24afa35e-2b50-4ca0-8a78-c9ee1f5a5644",
   "metadata": {},
   "outputs": [],
   "source": [
    "from datetime import datetime\n",
    "from datetime import timedelta"
   ]
  },
  {
   "cell_type": "code",
   "execution_count": null,
   "id": "22608ac6-61c9-4c80-9de7-1f0556b9ff8a",
   "metadata": {},
   "outputs": [],
   "source": [
    "now = datetime.now()\n",
    "now.month, now.year, now.day"
   ]
  },
  {
   "cell_type": "code",
   "execution_count": null,
   "id": "c973deae-c03f-4eea-8e06-eea982f649c4",
   "metadata": {},
   "outputs": [],
   "source": [
    "#df1 = client.query(f\"\"\" SELECT * FROM {PROJECT_ID}.raw.SNIM_PRECIOS_REFERENCIA WHERE date_time BETWEEN '2022-03-30' AND '2022-05-31' \"\"\").to_dataframe() "
   ]
  },
  {
   "cell_type": "code",
   "execution_count": null,
   "id": "1e7a650e-c6e0-46e4-bafa-69a0e12c2384",
   "metadata": {},
   "outputs": [],
   "source": [
    "#WHERE Fecha BETWEEN '2022-03-30' AND '2022-04-31' "
   ]
  },
  {
   "cell_type": "code",
   "execution_count": null,
   "id": "accd5287-1913-4d40-aedc-8224e96eb072",
   "metadata": {},
   "outputs": [],
   "source": [
    "df1 = client.query(f\"\"\" SELECT DATE(fecha) as Fecha, ingenio as Ingenio, Estado, AVG(precio_base) AS Precio_Base_Promedio FROM (\n",
    "SELECT A.*, B.Estado\n",
    "FROM ( SELECT * FROM `zmx-sugar-sales-ml-d.raw.precio-base-historico` ) A\n",
    "LEFT JOIN ( SELECT * FROM `zmx-sugar-sales-ml-d.raw.prueba_grupos` ) B\n",
    "ON A.ingenio = B.Ingenio)\n",
    "GROUP BY Fecha, Ingenio, Estado\n",
    "\"\"\").to_dataframe() "
   ]
  },
  {
   "cell_type": "code",
   "execution_count": null,
   "id": "9db4d0b2-a93c-4f3e-874b-86debb9695bc",
   "metadata": {},
   "outputs": [],
   "source": [
    "# data_precio_bh_estado = client.query(f\"\"\" SELECT DATE(fecha) as Fecha, ingenio as Ingenio, Estado, AVG(precio_base) AS Precio_Base_Promedio FROM (\n",
    "# SELECT A.*, B.Estado\n",
    "# FROM ( SELECT * FROM `zmx-sugar-sales-ml-d.raw.precio-base-historico` ) A\n",
    "# LEFT JOIN ( SELECT * FROM `zmx-sugar-sales-ml-d.raw.prueba_grupos` ) B\n",
    "# ON A.ingenio = B.Ingenio)\n",
    "# GROUP BY Fecha, Ingenio, Estado; \"\"\").to_dataframe() "
   ]
  },
  {
   "cell_type": "code",
   "execution_count": null,
   "id": "96819891-7147-423f-8e64-46eddce40c25",
   "metadata": {},
   "outputs": [],
   "source": [
    "trainX.shape"
   ]
  },
  {
   "cell_type": "code",
   "execution_count": null,
   "id": "ff0b6465-a0ce-4a94-a171-74fcd01fa93b",
   "metadata": {},
   "outputs": [],
   "source": [
    "#df1.Fecha.max()"
   ]
  },
  {
   "cell_type": "code",
   "execution_count": null,
   "id": "62973f53-e31b-4998-bba3-90fb966d5fe1",
   "metadata": {},
   "outputs": [],
   "source": [
    "df2=df1.sort_values(by=['Fecha'])#, ascending=False)"
   ]
  },
  {
   "cell_type": "code",
   "execution_count": null,
   "id": "3e08999d-95b1-4101-a4f8-82647c0b9988",
   "metadata": {},
   "outputs": [],
   "source": [
    "df3 = df2.tail(720)"
   ]
  },
  {
   "cell_type": "code",
   "execution_count": null,
   "id": "8828a789-ee67-49a3-84a7-94a60fc086d9",
   "metadata": {},
   "outputs": [],
   "source": [
    "df4=funcion(df3,\"Ingenio\",\"Fecha\")"
   ]
  },
  {
   "cell_type": "code",
   "execution_count": null,
   "id": "1ebd3840-b8ac-49bf-9c1b-39e4febdf8cc",
   "metadata": {
    "tags": []
   },
   "outputs": [],
   "source": [
    "df4"
   ]
  },
  {
   "cell_type": "code",
   "execution_count": null,
   "id": "3e14d1e5-2e5b-4114-9639-f007d82bba02",
   "metadata": {},
   "outputs": [],
   "source": [
    "df4X=np.expand_dims(df4[1],axis=-1)\n",
    "df4Y=np.expand_dims(df4[2],axis=-1)"
   ]
  },
  {
   "cell_type": "code",
   "execution_count": null,
   "id": "a9dba940-bd88-40e1-b9ab-4e294e213b2a",
   "metadata": {
    "tags": []
   },
   "outputs": [],
   "source": [
    "model.summary()"
   ]
  },
  {
   "cell_type": "code",
   "execution_count": null,
   "id": "5ef1dfbe-8a7c-4251-bc2e-7d169f20b5a3",
   "metadata": {
    "tags": []
   },
   "outputs": [],
   "source": [
    "#SIZE=30\n",
    "#p = np.reshape(df2.tail(SIZE).values, (1,SIZE,720)) #(1463, 6, 1)\n",
    "#p = np.reshape(df4.values, (1,6,1)) #30,24"
   ]
  },
  {
   "cell_type": "code",
   "execution_count": null,
   "id": "a564ad02-ea93-43c2-bc5e-187eee0dfdf5",
   "metadata": {
    "tags": []
   },
   "outputs": [],
   "source": [
    "lstm_model1.predict(df4X)"
   ]
  },
  {
   "cell_type": "code",
   "execution_count": null,
   "id": "6073b514-a5c9-427b-ae09-27e6bcebaf99",
   "metadata": {
    "tags": []
   },
   "outputs": [],
   "source": [
    "#model = Model(inputs=[lstm_model.predict(df4X), lstm_model1.predict(df4X)], outputs=z)"
   ]
  },
  {
   "cell_type": "code",
   "execution_count": null,
   "id": "f7e9874a-0e62-41ec-8a04-0194ffe90c8e",
   "metadata": {},
   "outputs": [],
   "source": [
    "early_stopping = tf.keras.callbacks.EarlyStopping(monitor='val_loss',patience=20,mode='min')\n",
    "  model.compile(loss=tf.losses.MeanSquaredError(),optimizer=tf.optimizers.Adam(learning_rate=LR),metrics=[tf.metrics.MeanAbsoluteError()])"
   ]
  },
  {
   "cell_type": "code",
   "execution_count": null,
   "id": "9054b3f7-bb0b-41ac-951f-c5150d23a82b",
   "metadata": {},
   "outputs": [],
   "source": [
    "#aqui"
   ]
  },
  {
   "cell_type": "code",
   "execution_count": null,
   "id": "f4f4cc43-9316-4f16-9edf-509e5319e6d7",
   "metadata": {
    "tags": []
   },
   "outputs": [],
   "source": [
    "g=model.predict(df4X)"
   ]
  },
  {
   "cell_type": "code",
   "execution_count": null,
   "id": "26e0c7e4-8578-46e6-9dcb-ccd31af0cc8d",
   "metadata": {},
   "outputs": [],
   "source": [
    "g1=model.predict(df4X)"
   ]
  },
  {
   "cell_type": "code",
   "execution_count": null,
   "id": "19b24a33-b58c-4369-a6f0-765ef503b57a",
   "metadata": {
    "tags": []
   },
   "outputs": [],
   "source": [
    "g"
   ]
  },
  {
   "cell_type": "code",
   "execution_count": null,
   "id": "7864954a-100c-4498-ab05-d2217f76ef04",
   "metadata": {
    "tags": []
   },
   "outputs": [],
   "source": [
    "df4Y"
   ]
  },
  {
   "cell_type": "code",
   "execution_count": null,
   "id": "1d759918-8002-46c4-95d3-cb63ea1503a7",
   "metadata": {},
   "outputs": [],
   "source": [
    "real = np.concatenate((df4X,df4Y), axis=1)\n",
    "pred = np.concatenate((df4X,g), axis=1)"
   ]
  },
  {
   "cell_type": "code",
   "execution_count": null,
   "id": "39a8a5ee-1f57-4ce2-ba5f-ac2d119fe03b",
   "metadata": {},
   "outputs": [],
   "source": [
    "df4X.shape ,  real.shape,  pred.shape , g.shape , df4Y.shape"
   ]
  },
  {
   "cell_type": "code",
   "execution_count": null,
   "id": "c109bc36-d62c-4455-a306-02a588d266dc",
   "metadata": {
    "tags": []
   },
   "outputs": [],
   "source": [
    "df4Y"
   ]
  },
  {
   "cell_type": "code",
   "execution_count": null,
   "id": "f5b902e5-ea2a-48da-ad33-e5dc8141af1e",
   "metadata": {
    "tags": []
   },
   "outputs": [],
   "source": [
    "g"
   ]
  },
  {
   "cell_type": "code",
   "execution_count": null,
   "id": "7fcc8bf6-5c06-47ed-8046-ddc314aade66",
   "metadata": {},
   "outputs": [],
   "source": [
    "train_split = np.concatenate((x_train,y_train), axis=1)"
   ]
  },
  {
   "cell_type": "code",
   "execution_count": null,
   "id": "17657d04-93d6-4f2d-a107-0c2d0ab7ed5e",
   "metadata": {},
   "outputs": [],
   "source": [
    "#scaler = StandardScaler()\n",
    "#scaler.fit(train_split)\n",
    "inversed = a[3].inverse_transform(pred)"
   ]
  },
  {
   "cell_type": "code",
   "execution_count": null,
   "id": "1c2db6c2-7a26-4ab5-a061-8f1c0ee33f6c",
   "metadata": {},
   "outputs": [],
   "source": []
  },
  {
   "cell_type": "code",
   "execution_count": null,
   "id": "867eee1a-1218-4d14-8029-5a8afc48e3ea",
   "metadata": {},
   "outputs": [],
   "source": []
  },
  {
   "cell_type": "code",
   "execution_count": null,
   "id": "2cdbb4ac-0738-49dd-a944-f081c5b09046",
   "metadata": {},
   "outputs": [],
   "source": [
    " return train_df,val_df,test_df,train_mean,train_std"
   ]
  },
  {
   "cell_type": "code",
   "execution_count": null,
   "id": "8342a389-28ae-4a7c-914d-f88122393a89",
   "metadata": {},
   "outputs": [],
   "source": [
    "train_mean = split(df)[3]\n",
    "train_std = split(df)[4]"
   ]
  },
  {
   "cell_type": "code",
   "execution_count": null,
   "id": "1a491459-17ca-4d52-928c-a8c31e5befbf",
   "metadata": {
    "tags": []
   },
   "outputs": [],
   "source": [
    "g"
   ]
  },
  {
   "cell_type": "code",
   "execution_count": null,
   "id": "2ab38aeb-96ad-43b1-b3be-0f40784f117d",
   "metadata": {
    "tags": []
   },
   "outputs": [],
   "source": [
    "train_mean = split(df)[3]\n",
    "train_std = split(df)[4]\n",
    "g2 = g[0][0]*train_std[0]+train_mean[0]"
   ]
  },
  {
   "cell_type": "code",
   "execution_count": null,
   "id": "b7a711fb-c8cb-4a97-9cec-1ddbb351361a",
   "metadata": {},
   "outputs": [],
   "source": [
    "g2"
   ]
  },
  {
   "cell_type": "code",
   "execution_count": null,
   "id": "3aece492-68a6-4e7b-9f0c-d059d5b782b4",
   "metadata": {
    "tags": []
   },
   "outputs": [],
   "source": [
    "p"
   ]
  },
  {
   "cell_type": "code",
   "execution_count": null,
   "id": "ab015527-9648-4fb3-9e9f-d6d731885f96",
   "metadata": {},
   "outputs": [],
   "source": [
    "df2.columns"
   ]
  },
  {
   "cell_type": "code",
   "execution_count": null,
   "id": "6e8e606d-f73a-490d-8968-4eb4257beeac",
   "metadata": {},
   "outputs": [],
   "source": [
    "aux= pd.DataFrame(g2)\n",
    "result = pd.DataFrame(aux.T.values,columns=df2.columns)"
   ]
  },
  {
   "cell_type": "code",
   "execution_count": null,
   "id": "0019765b-f2dd-445f-933d-c6ebb3c3bad8",
   "metadata": {},
   "outputs": [],
   "source": [
    "result"
   ]
  },
  {
   "cell_type": "markdown",
   "id": "17119875-29ff-4440-a020-d8edefc91cbe",
   "metadata": {},
   "source": [
    "### COMPARACION"
   ]
  },
  {
   "cell_type": "code",
   "execution_count": null,
   "id": "c83e9551-57d5-484a-9b50-65620d01977f",
   "metadata": {
    "tags": []
   },
   "outputs": [],
   "source": [
    "mask = (df1['Fecha'] == '2022, 7, 1')\n",
    "df3 = df1.loc[mask]"
   ]
  },
  {
   "cell_type": "code",
   "execution_count": null,
   "id": "410e05cb-f894-464a-8102-5737cfec3d7e",
   "metadata": {
    "tags": []
   },
   "outputs": [],
   "source": [
    "df3.shape"
   ]
  },
  {
   "cell_type": "code",
   "execution_count": null,
   "id": "624b0df0-99a3-41b7-a56e-fcc2fa3a0191",
   "metadata": {},
   "outputs": [],
   "source": [
    "y=prepro(df3)\n",
    "del y[\"Fecha\"]"
   ]
  },
  {
   "cell_type": "code",
   "execution_count": null,
   "id": "0aa71d6d-64cc-4f95-905d-7c698d0b340b",
   "metadata": {},
   "outputs": [],
   "source": [
    "y"
   ]
  },
  {
   "cell_type": "code",
   "execution_count": null,
   "id": "a4eed1c4-9fc6-41b4-b013-eb8459232c7d",
   "metadata": {},
   "outputs": [],
   "source": [
    "y.columns"
   ]
  },
  {
   "cell_type": "code",
   "execution_count": null,
   "id": "1e5cb608-98a7-4eac-860b-11276ee015ab",
   "metadata": {},
   "outputs": [],
   "source": [
    "result"
   ]
  },
  {
   "cell_type": "code",
   "execution_count": null,
   "id": "910d313e-f660-4372-b136-da268f9e0d22",
   "metadata": {},
   "outputs": [],
   "source": [
    "result.columns"
   ]
  }
 ],
 "metadata": {
  "environment": {
   "kernel": "python3",
   "name": "common-cpu.m95",
   "type": "gcloud",
   "uri": "gcr.io/deeplearning-platform-release/base-cpu:m95"
  },
  "kernelspec": {
   "display_name": "Python 3",
   "language": "python",
   "name": "python3"
  },
  "language_info": {
   "codemirror_mode": {
    "name": "ipython",
    "version": 3
   },
   "file_extension": ".py",
   "mimetype": "text/x-python",
   "name": "python",
   "nbconvert_exporter": "python",
   "pygments_lexer": "ipython3",
   "version": "3.7.12"
  }
 },
 "nbformat": 4,
 "nbformat_minor": 5
}
